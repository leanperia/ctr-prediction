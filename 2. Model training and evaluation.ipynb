{
 "cells": [
  {
   "cell_type": "code",
   "execution_count": 1,
   "metadata": {},
   "outputs": [],
   "source": [
    "import pandas as pd\n",
    "import numpy as np\n",
    "import matplotlib.pyplot as plt\n",
    "from tqdm import tqdm_notebook as tqdm\n",
    "\n",
    "import flair\n",
    "from flair.data import Sentence\n",
    "from flair.embeddings import ELMoEmbeddings, DocumentPoolEmbeddings\n",
    "import catboost\n",
    "\n",
    "import sklearn\n",
    "from sklearn.model_selection import train_test_split as TTsplit, KFold\n",
    "from sklearn.metrics import explained_variance_score, mean_absolute_error, r2_score\n",
    "from sklearn.preprocessing import scale\n",
    "\n",
    "from sklearn.linear_model import HuberRegressor, SGDRegressor"
   ]
  },
  {
   "cell_type": "code",
   "execution_count": 2,
   "metadata": {},
   "outputs": [],
   "source": [
    "data = pd.read_csv('cleaned_data.csv')"
   ]
  },
  {
   "cell_type": "code",
   "execution_count": 3,
   "metadata": {},
   "outputs": [
    {
     "data": {
      "text/html": [
       "<div>\n",
       "<style scoped>\n",
       "    .dataframe tbody tr th:only-of-type {\n",
       "        vertical-align: middle;\n",
       "    }\n",
       "\n",
       "    .dataframe tbody tr th {\n",
       "        vertical-align: top;\n",
       "    }\n",
       "\n",
       "    .dataframe thead th {\n",
       "        text-align: right;\n",
       "    }\n",
       "</style>\n",
       "<table border=\"1\" class=\"dataframe\">\n",
       "  <thead>\n",
       "    <tr style=\"text-align: right;\">\n",
       "      <th></th>\n",
       "      <th>Date</th>\n",
       "      <th>Market</th>\n",
       "      <th>Keyword</th>\n",
       "      <th>CPC</th>\n",
       "      <th>Clicks</th>\n",
       "      <th>CTR</th>\n",
       "      <th>Impressions</th>\n",
       "      <th>Cost</th>\n",
       "      <th>AveragePosition</th>\n",
       "      <th>Year</th>\n",
       "      <th>Month</th>\n",
       "    </tr>\n",
       "  </thead>\n",
       "  <tbody>\n",
       "    <tr>\n",
       "      <td>322536</td>\n",
       "      <td>20121218</td>\n",
       "      <td>UK-Market</td>\n",
       "      <td>saturn sky</td>\n",
       "      <td>-4.058894</td>\n",
       "      <td>-0.958607</td>\n",
       "      <td>0.5</td>\n",
       "      <td>1.342423</td>\n",
       "      <td>-2.000000</td>\n",
       "      <td>1.0</td>\n",
       "      <td>2012</td>\n",
       "      <td>12</td>\n",
       "    </tr>\n",
       "    <tr>\n",
       "      <td>227921</td>\n",
       "      <td>20130203</td>\n",
       "      <td>US-Market</td>\n",
       "      <td>zero percent credit cards</td>\n",
       "      <td>1.049631</td>\n",
       "      <td>1.110926</td>\n",
       "      <td>4.9</td>\n",
       "      <td>2.423246</td>\n",
       "      <td>1.426511</td>\n",
       "      <td>1.0</td>\n",
       "      <td>2013</td>\n",
       "      <td>2</td>\n",
       "    </tr>\n",
       "    <tr>\n",
       "      <td>140071</td>\n",
       "      <td>20120913</td>\n",
       "      <td>US-Market</td>\n",
       "      <td>stock quotes</td>\n",
       "      <td>3.564378</td>\n",
       "      <td>1.787673</td>\n",
       "      <td>0.4</td>\n",
       "      <td>4.151676</td>\n",
       "      <td>2.860578</td>\n",
       "      <td>1.0</td>\n",
       "      <td>2012</td>\n",
       "      <td>9</td>\n",
       "    </tr>\n",
       "    <tr>\n",
       "      <td>353048</td>\n",
       "      <td>20130205</td>\n",
       "      <td>UK-Market</td>\n",
       "      <td>trade stock</td>\n",
       "      <td>4.313246</td>\n",
       "      <td>-0.193820</td>\n",
       "      <td>2.9</td>\n",
       "      <td>1.342423</td>\n",
       "      <td>1.107549</td>\n",
       "      <td>1.0</td>\n",
       "      <td>2013</td>\n",
       "      <td>2</td>\n",
       "    </tr>\n",
       "    <tr>\n",
       "      <td>108305</td>\n",
       "      <td>20130208</td>\n",
       "      <td>US-Market</td>\n",
       "      <td>buy gift card</td>\n",
       "      <td>2.811471</td>\n",
       "      <td>1.396722</td>\n",
       "      <td>2.3</td>\n",
       "      <td>3.041787</td>\n",
       "      <td>2.243311</td>\n",
       "      <td>1.0</td>\n",
       "      <td>2013</td>\n",
       "      <td>2</td>\n",
       "    </tr>\n",
       "    <tr>\n",
       "      <td>95263</td>\n",
       "      <td>20130108</td>\n",
       "      <td>US-Market</td>\n",
       "      <td>lawyer</td>\n",
       "      <td>2.604071</td>\n",
       "      <td>3.530455</td>\n",
       "      <td>2.5</td>\n",
       "      <td>5.129313</td>\n",
       "      <td>4.314475</td>\n",
       "      <td>1.0</td>\n",
       "      <td>2013</td>\n",
       "      <td>1</td>\n",
       "    </tr>\n",
       "    <tr>\n",
       "      <td>201962</td>\n",
       "      <td>20121223</td>\n",
       "      <td>US-Market</td>\n",
       "      <td>auto insurance companies</td>\n",
       "      <td>6.241840</td>\n",
       "      <td>2.212427</td>\n",
       "      <td>2.5</td>\n",
       "      <td>3.813581</td>\n",
       "      <td>4.091437</td>\n",
       "      <td>1.0</td>\n",
       "      <td>2012</td>\n",
       "      <td>12</td>\n",
       "    </tr>\n",
       "    <tr>\n",
       "      <td>97935</td>\n",
       "      <td>20130114</td>\n",
       "      <td>US-Market</td>\n",
       "      <td>slumdog millionaire</td>\n",
       "      <td>-3.184425</td>\n",
       "      <td>0.322219</td>\n",
       "      <td>0.4</td>\n",
       "      <td>2.737193</td>\n",
       "      <td>-0.619789</td>\n",
       "      <td>1.0</td>\n",
       "      <td>2013</td>\n",
       "      <td>1</td>\n",
       "    </tr>\n",
       "    <tr>\n",
       "      <td>322402</td>\n",
       "      <td>20121218</td>\n",
       "      <td>UK-Market</td>\n",
       "      <td>gmac mortgage</td>\n",
       "      <td>-3.643856</td>\n",
       "      <td>-0.920819</td>\n",
       "      <td>0.5</td>\n",
       "      <td>1.380211</td>\n",
       "      <td>-2.000000</td>\n",
       "      <td>1.0</td>\n",
       "      <td>2012</td>\n",
       "      <td>12</td>\n",
       "    </tr>\n",
       "    <tr>\n",
       "      <td>165844</td>\n",
       "      <td>20121024</td>\n",
       "      <td>US-Market</td>\n",
       "      <td>visa credit cards</td>\n",
       "      <td>5.839204</td>\n",
       "      <td>1.774225</td>\n",
       "      <td>3.0</td>\n",
       "      <td>3.297104</td>\n",
       "      <td>3.532013</td>\n",
       "      <td>1.0</td>\n",
       "      <td>2012</td>\n",
       "      <td>10</td>\n",
       "    </tr>\n",
       "  </tbody>\n",
       "</table>\n",
       "</div>"
      ],
      "text/plain": [
       "            Date     Market                    Keyword       CPC    Clicks  \\\n",
       "322536  20121218  UK-Market                 saturn sky -4.058894 -0.958607   \n",
       "227921  20130203  US-Market  zero percent credit cards  1.049631  1.110926   \n",
       "140071  20120913  US-Market               stock quotes  3.564378  1.787673   \n",
       "353048  20130205  UK-Market                trade stock  4.313246 -0.193820   \n",
       "108305  20130208  US-Market              buy gift card  2.811471  1.396722   \n",
       "95263   20130108  US-Market                     lawyer  2.604071  3.530455   \n",
       "201962  20121223  US-Market   auto insurance companies  6.241840  2.212427   \n",
       "97935   20130114  US-Market        slumdog millionaire -3.184425  0.322219   \n",
       "322402  20121218  UK-Market              gmac mortgage -3.643856 -0.920819   \n",
       "165844  20121024  US-Market          visa credit cards  5.839204  1.774225   \n",
       "\n",
       "        CTR  Impressions      Cost  AveragePosition  Year  Month  \n",
       "322536  0.5     1.342423 -2.000000              1.0  2012     12  \n",
       "227921  4.9     2.423246  1.426511              1.0  2013      2  \n",
       "140071  0.4     4.151676  2.860578              1.0  2012      9  \n",
       "353048  2.9     1.342423  1.107549              1.0  2013      2  \n",
       "108305  2.3     3.041787  2.243311              1.0  2013      2  \n",
       "95263   2.5     5.129313  4.314475              1.0  2013      1  \n",
       "201962  2.5     3.813581  4.091437              1.0  2012     12  \n",
       "97935   0.4     2.737193 -0.619789              1.0  2013      1  \n",
       "322402  0.5     1.380211 -2.000000              1.0  2012     12  \n",
       "165844  3.0     3.297104  3.532013              1.0  2012     10  "
      ]
     },
     "execution_count": 3,
     "metadata": {},
     "output_type": "execute_result"
    }
   ],
   "source": [
    "data.sample(n=10)"
   ]
  },
  {
   "cell_type": "markdown",
   "metadata": {},
   "source": [
    "We do a few more data transformations"
   ]
  },
  {
   "cell_type": "code",
   "execution_count": 79,
   "metadata": {},
   "outputs": [],
   "source": [
    "data['Keyword'] = data.Keyword.apply(lambda x: x.lower())"
   ]
  },
  {
   "cell_type": "code",
   "execution_count": 80,
   "metadata": {},
   "outputs": [],
   "source": [
    "data['Market'] = data.Market.map({'US-Market':1, 'UK-Market':0})"
   ]
  },
  {
   "cell_type": "code",
   "execution_count": 12,
   "metadata": {},
   "outputs": [],
   "source": [
    "def perform_cross_validation(model, train_df, target_df, k_folds=5, fit_params=None):\n",
    "    kf = KFold(n_splits=k_folds, shuffle=True, random_state=17)\n",
    "    scores = []\n",
    "    r2s = []\n",
    "    errors = []\n",
    "    i = 1\n",
    "\n",
    "    for train_indices, val_indices in tqdm(list(kf.split(train_df, target_df))):\n",
    "        print(\"Training on fold \" + str(i) + f\" of {k_folds}...\", end='')\n",
    "        i += 1\n",
    "        \n",
    "        if not fit_params:\n",
    "            model.fit(train_df.iloc[train_indices], target_df.iloc[train_indices])\n",
    "        else:\n",
    "            model.fit(train_df.iloc[train_indices], target_df.iloc[train_indices], **fit_params)\n",
    "        print(\" Done.\")\n",
    "        predicted_value = model.predict(train_df.iloc[val_indices])\n",
    "        actual_value = target_df.iloc[val_indices]\n",
    "        scores.append(explained_variance_score(actual_value, predicted_value))\n",
    "        r2s.append(r2_score(actual_value, predicted_value))\n",
    "        errors.append(mean_absolute_error(actual_value, predicted_value))\n",
    "        \n",
    "    scores = np.array(scores)\n",
    "    r2s = np.array(r2s)\n",
    "    errors = np.array(errors)\n",
    "    print(f\"Results:\\nscores: {scores.mean()} +/- {scores.std()}\")\n",
    "    print(f\"r-squared: {r2s.mean()} +/- {r2s.std()}\")\n",
    "    print(f\"MAE: {errors.mean()} +/- {errors.std()}\")\n",
    "    return scores, r2s, errors"
   ]
  },
  {
   "cell_type": "markdown",
   "metadata": {},
   "source": [
    "# Computing ELMo word embeddings"
   ]
  },
  {
   "cell_type": "markdown",
   "metadata": {},
   "source": [
    "In the first half of 2018, the ELMo algorithm ([whitepaper](https://arxiv.org/pdf/1802.05365.pdf)) was state-of-the-art in Natural Language Processing problems as it introduced a new concept called deep contextualized word representations in which the vector embedding of each word is not just a function of the word itself with respect to the entire vocabulary, but is also a function of the sentence in which it appears in. Thus ELMo is able to model situations in which words have different meanings when used in a different context. It is a major improvement over the popular word2vec and GloVe algorithms for generating word embeddings\n",
    "\n",
    "We will use the ELMoEmbedding function provided in the Flair library. ELMo uses a recurrent neural network architecture thus it builds on top of PyTorch"
   ]
  },
  {
   "cell_type": "code",
   "execution_count": 27,
   "metadata": {},
   "outputs": [],
   "source": [
    "# init embedding model\n",
    "elmo_small = ELMoEmbeddings('small')"
   ]
  },
  {
   "cell_type": "code",
   "execution_count": 30,
   "metadata": {},
   "outputs": [],
   "source": [
    "document_embedding = DocumentPoolEmbeddings([elmo_small])"
   ]
  },
  {
   "cell_type": "code",
   "execution_count": 6,
   "metadata": {},
   "outputs": [],
   "source": [
    "def compute_elmo_embedding(keyword):\n",
    "    sentence = Sentence(keyword)\n",
    "    document_embedding.embed(sentence)\n",
    "    return sentence.get_embedding().detach().cpu().numpy()"
   ]
  },
  {
   "cell_type": "markdown",
   "metadata": {},
   "source": [
    "Generating embedding vectors of dimension 768 for the dataset of 203k keywords takes a while."
   ]
  },
  {
   "cell_type": "code",
   "execution_count": 51,
   "metadata": {},
   "outputs": [
    {
     "data": {
      "application/vnd.jupyter.widget-view+json": {
       "model_id": "2c350321283a488d9178e53f54bf80b8",
       "version_major": 2,
       "version_minor": 0
      },
      "text/plain": [
       "HBox(children=(IntProgress(value=0, max=203643), HTML(value='')))"
      ]
     },
     "metadata": {},
     "output_type": "display_data"
    },
    {
     "name": "stdout",
     "output_type": "stream",
     "text": [
      "\n"
     ]
    }
   ],
   "source": [
    "vectors = []\n",
    "for keyword in tqdm(list(data.Keyword.values)):\n",
    "    vectors.append(compute_elmo_embedding(keyword))"
   ]
  },
  {
   "cell_type": "code",
   "execution_count": 52,
   "metadata": {},
   "outputs": [],
   "source": [
    "train = data[['Market', 'CPC', 'Year', 'Month']].copy()"
   ]
  },
  {
   "cell_type": "code",
   "execution_count": 53,
   "metadata": {},
   "outputs": [],
   "source": [
    "vectors = pd.DataFrame.from_records(np.array(vectors),index=train.index)"
   ]
  },
  {
   "cell_type": "code",
   "execution_count": 54,
   "metadata": {},
   "outputs": [],
   "source": [
    "train = pd.concat([train, vectors], axis=1)"
   ]
  },
  {
   "cell_type": "code",
   "execution_count": 55,
   "metadata": {},
   "outputs": [
    {
     "data": {
      "text/plain": [
       "(203643, 772)"
      ]
     },
     "execution_count": 55,
     "metadata": {},
     "output_type": "execute_result"
    }
   ],
   "source": [
    "train.shape"
   ]
  },
  {
   "cell_type": "markdown",
   "metadata": {},
   "source": [
    "We save the embeddings along with the relevant predictor features so it is faster to iterate when experimenting with machine learning models"
   ]
  },
  {
   "cell_type": "code",
   "execution_count": 56,
   "metadata": {},
   "outputs": [],
   "source": [
    "train.to_csv('embeddings_elmo.csv', index_label=False)"
   ]
  },
  {
   "cell_type": "code",
   "execution_count": 7,
   "metadata": {},
   "outputs": [],
   "source": [
    "train = pd.read_csv('embeddings_elmo.csv')"
   ]
  },
  {
   "cell_type": "markdown",
   "metadata": {},
   "source": [
    "# Training Regressors"
   ]
  },
  {
   "cell_type": "markdown",
   "metadata": {},
   "source": [
    "We choose to use the gradient boosted tree library named CatBoost from Yandex. It has been shown to improve upon the very popular XGBoost and LightGBM libraries and performs well for categorical variables. In our dataset we have Market, Year and Month as categorical variables. I have done some hyperparameter tuning beforehand and below are values I chose."
   ]
  },
  {
   "cell_type": "code",
   "execution_count": 10,
   "metadata": {},
   "outputs": [],
   "source": [
    "cbmodel = catboost.CatBoostRegressor(task_type='GPU', depth=16, grow_policy='Lossguide', max_leaves=63)"
   ]
  },
  {
   "cell_type": "markdown",
   "metadata": {},
   "source": [
    "We need to train a separate regressor for each target numerical feature. As discussed in the EDA notebook, we will be predicting CTR, Clicks and AveragePosition then we will compute the Impressions and Cost. First we perform 5-fold cross-validation and compute the explained variance score, the $R^2$ value, and mean absolute error for each regressor. The closer to 1.0 the explained variance is, the better the model is.\n",
    "\n",
    "The sklearn docs has a detailed breakdown of regression metrics [here](https://scikit-learn.org/stable/modules/model_evaluation.html#regression-metrics)"
   ]
  },
  {
   "cell_type": "code",
   "execution_count": 13,
   "metadata": {},
   "outputs": [
    {
     "data": {
      "application/vnd.jupyter.widget-view+json": {
       "model_id": "245bc40025b24aae924036c8789e3d41",
       "version_major": 2,
       "version_minor": 0
      },
      "text/plain": [
       "HBox(children=(IntProgress(value=0, max=5), HTML(value='')))"
      ]
     },
     "metadata": {},
     "output_type": "display_data"
    },
    {
     "name": "stdout",
     "output_type": "stream",
     "text": [
      "Training on fold 1 of 5... Done.\n",
      "Training on fold 2 of 5... Done.\n",
      "Training on fold 3 of 5... Done.\n",
      "Training on fold 4 of 5... Done.\n",
      "Training on fold 5 of 5... Done.\n",
      "\n",
      "Results:\n",
      "scores: 0.8689546296236248 +/- 0.0006391622327423346\n",
      "r-squared: 0.8689293730513373 +/- 0.0006353664800213117\n",
      "MAE: 0.47718850367210497 +/- 0.0017195953631911546\n"
     ]
    }
   ],
   "source": [
    "perform_cross_validation(cbmodel, train, data.CTR, fit_params={'cat_features':[0,2,3], 'verbose':False});"
   ]
  },
  {
   "cell_type": "code",
   "execution_count": 14,
   "metadata": {},
   "outputs": [
    {
     "data": {
      "application/vnd.jupyter.widget-view+json": {
       "model_id": "31a1f7ba9abd49c59d57723d82e06c48",
       "version_major": 2,
       "version_minor": 0
      },
      "text/plain": [
       "HBox(children=(IntProgress(value=0, max=5), HTML(value='')))"
      ]
     },
     "metadata": {},
     "output_type": "display_data"
    },
    {
     "name": "stdout",
     "output_type": "stream",
     "text": [
      "Training on fold 1 of 5... Done.\n",
      "Training on fold 2 of 5... Done.\n",
      "Training on fold 3 of 5... Done.\n",
      "Training on fold 4 of 5... Done.\n",
      "Training on fold 5 of 5... Done.\n",
      "\n",
      "Results:\n",
      "scores: 0.9370096213708639 +/- 0.0015850676153734565\n",
      "r-squared: 0.9370046921952836 +/- 0.001585706440868557\n",
      "MAE: 0.1754057206881581 +/- 0.0009201017426284919\n"
     ]
    }
   ],
   "source": [
    "perform_cross_validation(cbmodel, train, data.Clicks, fit_params={'cat_features':[0,2,3], 'verbose':False});"
   ]
  },
  {
   "cell_type": "code",
   "execution_count": 15,
   "metadata": {},
   "outputs": [
    {
     "data": {
      "application/vnd.jupyter.widget-view+json": {
       "model_id": "cd0063b7290a4647bd27aefb11992a37",
       "version_major": 2,
       "version_minor": 0
      },
      "text/plain": [
       "HBox(children=(IntProgress(value=0, max=5), HTML(value='')))"
      ]
     },
     "metadata": {},
     "output_type": "display_data"
    },
    {
     "name": "stdout",
     "output_type": "stream",
     "text": [
      "Training on fold 1 of 5... Done.\n",
      "Training on fold 2 of 5... Done.\n",
      "Training on fold 3 of 5... Done.\n",
      "Training on fold 4 of 5... Done.\n",
      "Training on fold 5 of 5... Done.\n",
      "\n",
      "Results:\n",
      "scores: 0.7149192538376179 +/- 0.020763505663724192\n",
      "r-squared: 0.7149038956299435 +/- 0.020753352038012464\n",
      "MAE: 0.03680639801468201 +/- 0.0008204893030684343\n"
     ]
    }
   ],
   "source": [
    "perform_cross_validation(cbmodel, train, data.AveragePosition, fit_params={'cat_features':[0,2,3], 'verbose':False});"
   ]
  },
  {
   "cell_type": "markdown",
   "metadata": {},
   "source": [
    "After selection of hyperparameters, we will train regressors over the entire dataset and prepare a wrapper function that will take the predictor features and compute all target features"
   ]
  },
  {
   "cell_type": "code",
   "execution_count": 17,
   "metadata": {},
   "outputs": [],
   "source": [
    "ctr_predictor = catboost.CatBoostRegressor(task_type='GPU', depth=16, grow_policy='Lossguide', max_leaves=63)\n",
    "click_predictor = catboost.CatBoostRegressor(task_type='GPU', depth=16, grow_policy='Lossguide', max_leaves=63)\n",
    "ap_predictor = catboost.CatBoostRegressor(task_type='GPU', depth=16, grow_policy='Lossguide', max_leaves=63)"
   ]
  },
  {
   "cell_type": "code",
   "execution_count": 19,
   "metadata": {},
   "outputs": [
    {
     "data": {
      "text/plain": [
       "<catboost.core.CatBoostRegressor at 0x7f6d6663e780>"
      ]
     },
     "execution_count": 19,
     "metadata": {},
     "output_type": "execute_result"
    }
   ],
   "source": [
    "ctr_predictor.fit(train,data.CTR, cat_features=[0,2,3], verbose=False)"
   ]
  },
  {
   "cell_type": "code",
   "execution_count": 20,
   "metadata": {},
   "outputs": [
    {
     "data": {
      "text/plain": [
       "<catboost.core.CatBoostRegressor at 0x7f6d6663e400>"
      ]
     },
     "execution_count": 20,
     "metadata": {},
     "output_type": "execute_result"
    }
   ],
   "source": [
    "click_predictor.fit(train,data.Clicks, cat_features=[0,2,3], verbose=False)"
   ]
  },
  {
   "cell_type": "code",
   "execution_count": 21,
   "metadata": {},
   "outputs": [
    {
     "data": {
      "text/plain": [
       "<catboost.core.CatBoostRegressor at 0x7f6d6663e550>"
      ]
     },
     "execution_count": 21,
     "metadata": {},
     "output_type": "execute_result"
    }
   ],
   "source": [
    "ap_predictor.fit(train,data.AveragePosition, cat_features=[0,2,3], verbose=False)"
   ]
  },
  {
   "cell_type": "code",
   "execution_count": 40,
   "metadata": {},
   "outputs": [],
   "source": [
    "def Predictor(Date, Market, Keyword, CPC):\n",
    "    # NOTE: this function only takes a single datapoint at a time\n",
    "    # Each input must match the data type of the corresponding column in the original dataset\n",
    "    year = int(Date[:4])\n",
    "    month = int(Date[4:6])\n",
    "    market = 1 if Market == 'US-Market' else 0\n",
    "    cpc = np.log2(CPC)\n",
    "    keyword = Keyword.lower()\n",
    "    vector = list(compute_elmo_embedding(keyword))\n",
    "    input_vector = [market, cpc, year, month, *vector]\n",
    "    ctr = ctr_predictor.predict(input_vector)\n",
    "    clicks = click_predictor.predict(input_vector)\n",
    "    averageposition = ap_predictor.predict(input_vector)\n",
    "    impressions = clicks/ctr if ctr != 0.0 else 999999\n",
    "    cost = clicks*cpc\n",
    "    return ctr, 10**clicks, 10**impressions, 10**cost, averageposition"
   ]
  },
  {
   "cell_type": "markdown",
   "metadata": {},
   "source": [
    "Now we can go ahead and try out our predictor function"
   ]
  },
  {
   "cell_type": "code",
   "execution_count": 44,
   "metadata": {},
   "outputs": [
    {
     "data": {
      "text/plain": [
       "(9.16275183499718,\n",
       " 15.302697773917824,\n",
       " 1.3467985492694117,\n",
       " 2.0494378241038187,\n",
       " 1.0012287559463449)"
      ]
     },
     "execution_count": 44,
     "metadata": {},
     "output_type": "execute_result"
    }
   ],
   "source": [
    "Predictor('20120524', 'US-Market', 'agile management software', 1.2)"
   ]
  },
  {
   "cell_type": "code",
   "execution_count": 37,
   "metadata": {},
   "outputs": [],
   "source": [
    "raw_data = pd.read_csv('dataset.csv')"
   ]
  },
  {
   "cell_type": "code",
   "execution_count": 38,
   "metadata": {},
   "outputs": [
    {
     "data": {
      "text/html": [
       "<div>\n",
       "<style scoped>\n",
       "    .dataframe tbody tr th:only-of-type {\n",
       "        vertical-align: middle;\n",
       "    }\n",
       "\n",
       "    .dataframe tbody tr th {\n",
       "        vertical-align: top;\n",
       "    }\n",
       "\n",
       "    .dataframe thead th {\n",
       "        text-align: right;\n",
       "    }\n",
       "</style>\n",
       "<table border=\"1\" class=\"dataframe\">\n",
       "  <thead>\n",
       "    <tr style=\"text-align: right;\">\n",
       "      <th></th>\n",
       "      <th>Date</th>\n",
       "      <th>Market</th>\n",
       "      <th>Keyword</th>\n",
       "      <th>Average.Position</th>\n",
       "      <th>CPC</th>\n",
       "      <th>Clicks</th>\n",
       "      <th>CTR</th>\n",
       "      <th>Impressions</th>\n",
       "      <th>Cost</th>\n",
       "    </tr>\n",
       "  </thead>\n",
       "  <tbody>\n",
       "    <tr>\n",
       "      <td>0</td>\n",
       "      <td>20120524</td>\n",
       "      <td>US-Market</td>\n",
       "      <td>secure online back up</td>\n",
       "      <td>0.0</td>\n",
       "      <td>0.0</td>\n",
       "      <td>0.00</td>\n",
       "      <td>0.00%</td>\n",
       "      <td>0.0</td>\n",
       "      <td>0.00</td>\n",
       "    </tr>\n",
       "    <tr>\n",
       "      <td>1</td>\n",
       "      <td>20120524</td>\n",
       "      <td>US-Market</td>\n",
       "      <td>agile management software</td>\n",
       "      <td>1.0</td>\n",
       "      <td>1.2</td>\n",
       "      <td>21.22</td>\n",
       "      <td>8.20%</td>\n",
       "      <td>260.0</td>\n",
       "      <td>25.45</td>\n",
       "    </tr>\n",
       "    <tr>\n",
       "      <td>2</td>\n",
       "      <td>20120524</td>\n",
       "      <td>US-Market</td>\n",
       "      <td>crm for financial</td>\n",
       "      <td>0.0</td>\n",
       "      <td>0.0</td>\n",
       "      <td>0.00</td>\n",
       "      <td>0.00%</td>\n",
       "      <td>0.0</td>\n",
       "      <td>0.00</td>\n",
       "    </tr>\n",
       "    <tr>\n",
       "      <td>3</td>\n",
       "      <td>20120524</td>\n",
       "      <td>US-Market</td>\n",
       "      <td>disaster recovery planning for it</td>\n",
       "      <td>0.0</td>\n",
       "      <td>0.0</td>\n",
       "      <td>0.00</td>\n",
       "      <td>0.00%</td>\n",
       "      <td>0.0</td>\n",
       "      <td>0.00</td>\n",
       "    </tr>\n",
       "    <tr>\n",
       "      <td>4</td>\n",
       "      <td>20120524</td>\n",
       "      <td>US-Market</td>\n",
       "      <td>tracking a vehicle</td>\n",
       "      <td>0.0</td>\n",
       "      <td>0.0</td>\n",
       "      <td>0.00</td>\n",
       "      <td>0.00%</td>\n",
       "      <td>0.0</td>\n",
       "      <td>0.00</td>\n",
       "    </tr>\n",
       "  </tbody>\n",
       "</table>\n",
       "</div>"
      ],
      "text/plain": [
       "       Date     Market                            Keyword  Average.Position  \\\n",
       "0  20120524  US-Market              secure online back up               0.0   \n",
       "1  20120524  US-Market          agile management software               1.0   \n",
       "2  20120524  US-Market                  crm for financial               0.0   \n",
       "3  20120524  US-Market  disaster recovery planning for it               0.0   \n",
       "4  20120524  US-Market                 tracking a vehicle               0.0   \n",
       "\n",
       "   CPC  Clicks    CTR  Impressions   Cost  \n",
       "0  0.0    0.00  0.00%          0.0   0.00  \n",
       "1  1.2   21.22  8.20%        260.0  25.45  \n",
       "2  0.0    0.00  0.00%          0.0   0.00  \n",
       "3  0.0    0.00  0.00%          0.0   0.00  \n",
       "4  0.0    0.00  0.00%          0.0   0.00  "
      ]
     },
     "execution_count": 38,
     "metadata": {},
     "output_type": "execute_result"
    }
   ],
   "source": [
    "raw_data.head()"
   ]
  },
  {
   "cell_type": "code",
   "execution_count": null,
   "metadata": {},
   "outputs": [],
   "source": []
  }
 ],
 "metadata": {
  "kernelspec": {
   "display_name": "Python 3",
   "language": "python",
   "name": "python3"
  },
  "language_info": {
   "codemirror_mode": {
    "name": "ipython",
    "version": 3
   },
   "file_extension": ".py",
   "mimetype": "text/x-python",
   "name": "python",
   "nbconvert_exporter": "python",
   "pygments_lexer": "ipython3",
   "version": "3.7.3"
  }
 },
 "nbformat": 4,
 "nbformat_minor": 2
}
