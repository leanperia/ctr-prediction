{
 "cells": [
  {
   "cell_type": "markdown",
   "metadata": {},
   "source": [
    "## Our ML strategy\n",
    "\n",
    "Let us formulate the objective in formal terms. Our input features are the following:\n",
    "- date (as category variables Year, Month, Season)\n",
    "- market (US/UK) - binary categorical variable\n",
    "- keyword - string variable\n",
    "- CPC - float variable\n",
    "\n",
    "Our target variables are the following, all numerical:\n",
    "- CTR\n",
    "- Clicks\n",
    "- Impressions\n",
    "- Cost\n",
    "- AveragePosition\n",
    "\n",
    "We have then a multiple-output regression problem. However because the outputs are related, we can use the following formulas:\n",
    "$$ \\textbf{impressions} = \\frac{\\textbf{clicks}}{\\textbf{CTR}} ; \\quad \\textbf{Cost} = \\textbf{clicks}\\times \\textbf{CPC}$$\n",
    "\n",
    "Thus we can actually opt to only predict CTR, number of clicks and average position, and then compute the number of impressions and cost afterwards. However to avoid spreading of variance, and because in retrospect training a regressor does not take too much time, it is better to create five independent regressors for each target variable."
   ]
  },
  {
   "cell_type": "code",
   "execution_count": 1,
   "metadata": {},
   "outputs": [],
   "source": [
    "import pandas as pd\n",
    "import numpy as np\n",
    "import matplotlib.pyplot as plt\n",
    "from tqdm import tqdm_notebook as tqdm\n",
    "\n",
    "import flair\n",
    "from flair.data import Sentence\n",
    "from flair.embeddings import ELMoEmbeddings, DocumentPoolEmbeddings\n",
    "import catboost\n",
    "\n",
    "import sklearn\n",
    "from sklearn.model_selection import train_test_split as TTsplit, KFold\n",
    "from sklearn.metrics import explained_variance_score, mean_absolute_error\n",
    "from joblib import dump, load"
   ]
  },
  {
   "cell_type": "code",
   "execution_count": 2,
   "metadata": {},
   "outputs": [],
   "source": [
    "data = pd.read_csv('cleaned_data.csv')"
   ]
  },
  {
   "cell_type": "code",
   "execution_count": 3,
   "metadata": {},
   "outputs": [
    {
     "data": {
      "text/plain": [
       "(203643, 12)"
      ]
     },
     "execution_count": 3,
     "metadata": {},
     "output_type": "execute_result"
    }
   ],
   "source": [
    "data.shape"
   ]
  },
  {
   "cell_type": "code",
   "execution_count": 4,
   "metadata": {},
   "outputs": [
    {
     "data": {
      "text/html": [
       "<div>\n",
       "<style scoped>\n",
       "    .dataframe tbody tr th:only-of-type {\n",
       "        vertical-align: middle;\n",
       "    }\n",
       "\n",
       "    .dataframe tbody tr th {\n",
       "        vertical-align: top;\n",
       "    }\n",
       "\n",
       "    .dataframe thead th {\n",
       "        text-align: right;\n",
       "    }\n",
       "</style>\n",
       "<table border=\"1\" class=\"dataframe\">\n",
       "  <thead>\n",
       "    <tr style=\"text-align: right;\">\n",
       "      <th></th>\n",
       "      <th>Date</th>\n",
       "      <th>Market</th>\n",
       "      <th>Keyword</th>\n",
       "      <th>CPC</th>\n",
       "      <th>Clicks</th>\n",
       "      <th>CTR</th>\n",
       "      <th>Impressions</th>\n",
       "      <th>Cost</th>\n",
       "      <th>AveragePosition</th>\n",
       "      <th>Year</th>\n",
       "      <th>Month</th>\n",
       "      <th>Season</th>\n",
       "    </tr>\n",
       "  </thead>\n",
       "  <tbody>\n",
       "    <tr>\n",
       "      <td>172068</td>\n",
       "      <td>20121103</td>\n",
       "      <td>1</td>\n",
       "      <td>chicago personal injury lawyer</td>\n",
       "      <td>6.882276</td>\n",
       "      <td>-0.096910</td>\n",
       "      <td>0.7</td>\n",
       "      <td>2.033424</td>\n",
       "      <td>1.977449</td>\n",
       "      <td>1.0</td>\n",
       "      <td>2012</td>\n",
       "      <td>11</td>\n",
       "      <td>4</td>\n",
       "    </tr>\n",
       "    <tr>\n",
       "      <td>53010</td>\n",
       "      <td>20121002</td>\n",
       "      <td>1</td>\n",
       "      <td>canon 5d</td>\n",
       "      <td>1.627607</td>\n",
       "      <td>1.690462</td>\n",
       "      <td>0.5</td>\n",
       "      <td>4.035950</td>\n",
       "      <td>2.179954</td>\n",
       "      <td>1.0</td>\n",
       "      <td>2012</td>\n",
       "      <td>10</td>\n",
       "      <td>3</td>\n",
       "    </tr>\n",
       "    <tr>\n",
       "      <td>32132</td>\n",
       "      <td>20120815</td>\n",
       "      <td>1</td>\n",
       "      <td>chatroulette</td>\n",
       "      <td>-1.089267</td>\n",
       "      <td>2.511121</td>\n",
       "      <td>2.6</td>\n",
       "      <td>4.094296</td>\n",
       "      <td>2.186872</td>\n",
       "      <td>1.0</td>\n",
       "      <td>2012</td>\n",
       "      <td>8</td>\n",
       "      <td>2</td>\n",
       "    </tr>\n",
       "    <tr>\n",
       "      <td>132674</td>\n",
       "      <td>20120902</td>\n",
       "      <td>1</td>\n",
       "      <td>auto insurance companies</td>\n",
       "      <td>5.871104</td>\n",
       "      <td>0.426511</td>\n",
       "      <td>0.1</td>\n",
       "      <td>3.260548</td>\n",
       "      <td>2.193848</td>\n",
       "      <td>5.3</td>\n",
       "      <td>2012</td>\n",
       "      <td>9</td>\n",
       "      <td>3</td>\n",
       "    </tr>\n",
       "    <tr>\n",
       "      <td>31529</td>\n",
       "      <td>20120814</td>\n",
       "      <td>1</td>\n",
       "      <td>hdmi to hdmi cables</td>\n",
       "      <td>-1.000000</td>\n",
       "      <td>0.550228</td>\n",
       "      <td>0.3</td>\n",
       "      <td>3.123525</td>\n",
       "      <td>0.252853</td>\n",
       "      <td>1.0</td>\n",
       "      <td>2012</td>\n",
       "      <td>8</td>\n",
       "      <td>2</td>\n",
       "    </tr>\n",
       "    <tr>\n",
       "      <td>165621</td>\n",
       "      <td>20121024</td>\n",
       "      <td>1</td>\n",
       "      <td>auto accident attorney</td>\n",
       "      <td>4.801159</td>\n",
       "      <td>1.805569</td>\n",
       "      <td>2.3</td>\n",
       "      <td>3.441066</td>\n",
       "      <td>3.250866</td>\n",
       "      <td>1.0</td>\n",
       "      <td>2012</td>\n",
       "      <td>10</td>\n",
       "      <td>3</td>\n",
       "    </tr>\n",
       "    <tr>\n",
       "      <td>149686</td>\n",
       "      <td>20120928</td>\n",
       "      <td>1</td>\n",
       "      <td>secure credit card</td>\n",
       "      <td>6.411426</td>\n",
       "      <td>0.311754</td>\n",
       "      <td>0.5</td>\n",
       "      <td>2.583199</td>\n",
       "      <td>2.242094</td>\n",
       "      <td>1.0</td>\n",
       "      <td>2012</td>\n",
       "      <td>9</td>\n",
       "      <td>3</td>\n",
       "    </tr>\n",
       "    <tr>\n",
       "      <td>70146</td>\n",
       "      <td>20121113</td>\n",
       "      <td>1</td>\n",
       "      <td>donate to haiti</td>\n",
       "      <td>-0.217591</td>\n",
       "      <td>1.058046</td>\n",
       "      <td>2.6</td>\n",
       "      <td>2.646404</td>\n",
       "      <td>0.993877</td>\n",
       "      <td>1.0</td>\n",
       "      <td>2012</td>\n",
       "      <td>11</td>\n",
       "      <td>4</td>\n",
       "    </tr>\n",
       "    <tr>\n",
       "      <td>19133</td>\n",
       "      <td>20120712</td>\n",
       "      <td>1</td>\n",
       "      <td>mininova</td>\n",
       "      <td>1.327687</td>\n",
       "      <td>1.786467</td>\n",
       "      <td>4.4</td>\n",
       "      <td>3.143951</td>\n",
       "      <td>2.185315</td>\n",
       "      <td>1.0</td>\n",
       "      <td>2012</td>\n",
       "      <td>7</td>\n",
       "      <td>2</td>\n",
       "    </tr>\n",
       "    <tr>\n",
       "      <td>158602</td>\n",
       "      <td>20121012</td>\n",
       "      <td>1</td>\n",
       "      <td>best credit card deals</td>\n",
       "      <td>1.794936</td>\n",
       "      <td>0.698970</td>\n",
       "      <td>2.4</td>\n",
       "      <td>2.315970</td>\n",
       "      <td>1.239049</td>\n",
       "      <td>1.0</td>\n",
       "      <td>2012</td>\n",
       "      <td>10</td>\n",
       "      <td>3</td>\n",
       "    </tr>\n",
       "  </tbody>\n",
       "</table>\n",
       "</div>"
      ],
      "text/plain": [
       "            Date  Market                         Keyword       CPC    Clicks  \\\n",
       "172068  20121103       1  chicago personal injury lawyer  6.882276 -0.096910   \n",
       "53010   20121002       1                        canon 5d  1.627607  1.690462   \n",
       "32132   20120815       1                    chatroulette -1.089267  2.511121   \n",
       "132674  20120902       1        auto insurance companies  5.871104  0.426511   \n",
       "31529   20120814       1             hdmi to hdmi cables -1.000000  0.550228   \n",
       "165621  20121024       1          auto accident attorney  4.801159  1.805569   \n",
       "149686  20120928       1              secure credit card  6.411426  0.311754   \n",
       "70146   20121113       1                 donate to haiti -0.217591  1.058046   \n",
       "19133   20120712       1                        mininova  1.327687  1.786467   \n",
       "158602  20121012       1          best credit card deals  1.794936  0.698970   \n",
       "\n",
       "        CTR  Impressions      Cost  AveragePosition  Year  Month  Season  \n",
       "172068  0.7     2.033424  1.977449              1.0  2012     11       4  \n",
       "53010   0.5     4.035950  2.179954              1.0  2012     10       3  \n",
       "32132   2.6     4.094296  2.186872              1.0  2012      8       2  \n",
       "132674  0.1     3.260548  2.193848              5.3  2012      9       3  \n",
       "31529   0.3     3.123525  0.252853              1.0  2012      8       2  \n",
       "165621  2.3     3.441066  3.250866              1.0  2012     10       3  \n",
       "149686  0.5     2.583199  2.242094              1.0  2012      9       3  \n",
       "70146   2.6     2.646404  0.993877              1.0  2012     11       4  \n",
       "19133   4.4     3.143951  2.185315              1.0  2012      7       2  \n",
       "158602  2.4     2.315970  1.239049              1.0  2012     10       3  "
      ]
     },
     "execution_count": 4,
     "metadata": {},
     "output_type": "execute_result"
    }
   ],
   "source": [
    "data.sample(n=10)"
   ]
  },
  {
   "cell_type": "markdown",
   "metadata": {},
   "source": [
    "We make a train-test split of this cleaned dataset, keeping the data stratified along the Month variable. This means the two resulting dataframes maintain approximately the same percentage of data per month as the original dataframe."
   ]
  },
  {
   "cell_type": "code",
   "execution_count": 5,
   "metadata": {},
   "outputs": [],
   "source": [
    "train_df, test_df = TTsplit(data, test_size=0.3, stratify=data.Month)"
   ]
  },
  {
   "cell_type": "code",
   "execution_count": 6,
   "metadata": {},
   "outputs": [
    {
     "data": {
      "text/plain": [
       "(142550, 12)"
      ]
     },
     "execution_count": 6,
     "metadata": {},
     "output_type": "execute_result"
    }
   ],
   "source": [
    "train_df.shape"
   ]
  },
  {
   "cell_type": "markdown",
   "metadata": {},
   "source": [
    "We save the test set for later evaluation. But we will undo all of the transformations so that this test set follows the format of the original dataset. This is because our `evaluation.py` script expects that format as well."
   ]
  },
  {
   "cell_type": "code",
   "execution_count": 7,
   "metadata": {},
   "outputs": [],
   "source": [
    "test_df = test_df.drop(['Year', 'Month', 'Season'], axis=1)\n",
    "test_df['Average.Position'] = test_df.AveragePosition\n",
    "test_df.drop('AveragePosition', axis=1, inplace=True)\n",
    "test_df.Market = test_df.Market.map({0:'UK-Market', 1:'US-Market'})\n",
    "test_df.CTR = test_df.CTR.apply(lambda x: str(x)+'%')\n",
    "test_df.CPC = test_df.CPC.apply(np.exp2)\n",
    "exp10 = lambda x: np.float_power(10,x)\n",
    "test_df.Clicks = test_df.Clicks.apply(exp10)\n",
    "test_df.Impressions = test_df.Impressions.apply(exp10)\n",
    "test_df.Cost = test_df.Cost.apply(exp10)\n",
    "\n",
    "test_df.to_csv('testset.csv', index_label=False)"
   ]
  },
  {
   "cell_type": "markdown",
   "metadata": {},
   "source": [
    "# Computing ELMo word embeddings"
   ]
  },
  {
   "cell_type": "markdown",
   "metadata": {},
   "source": [
    "In the first half of 2018, the ELMo algorithm ([whitepaper](https://arxiv.org/pdf/1802.05365.pdf)) was state-of-the-art in Natural Language Processing problems as it introduced a new concept called deep contextualized word representations in which the vector embedding of each word is not just a function of the word itself with respect to the entire vocabulary, but is also a function of the sentence in which it appears in. Thus ELMo is able to model situations in which words have different meanings when used in a different context. It is a major improvement over the popular word2vec and GloVe algorithms for generating word embeddings\n",
    "\n",
    "We will use the ELMoEmbedding function provided in the Flair library. ELMo uses a recurrent neural network architecture thus it builds on top of PyTorch"
   ]
  },
  {
   "cell_type": "code",
   "execution_count": 8,
   "metadata": {},
   "outputs": [],
   "source": [
    "# this will download the pretrained model if not yet previously downloaded\n",
    "elmo_small = ELMoEmbeddings('small')"
   ]
  },
  {
   "cell_type": "code",
   "execution_count": 9,
   "metadata": {},
   "outputs": [],
   "source": [
    "document_embedding = DocumentPoolEmbeddings([elmo_small])"
   ]
  },
  {
   "cell_type": "code",
   "execution_count": 10,
   "metadata": {},
   "outputs": [],
   "source": [
    "def compute_elmo_embedding(keyword):\n",
    "    sentence = Sentence(keyword)\n",
    "    document_embedding.embed(sentence)\n",
    "    return sentence.get_embedding().detach().cpu().numpy()"
   ]
  },
  {
   "cell_type": "markdown",
   "metadata": {},
   "source": [
    "Generating embedding vectors of dimension 768 for the dataset of 140k keywords takes a while."
   ]
  },
  {
   "cell_type": "code",
   "execution_count": 12,
   "metadata": {},
   "outputs": [
    {
     "data": {
      "application/vnd.jupyter.widget-view+json": {
       "model_id": "2e2fa765483b40fb89f28d8194faa0e2",
       "version_major": 2,
       "version_minor": 0
      },
      "text/plain": [
       "HBox(children=(IntProgress(value=0, max=142550), HTML(value='')))"
      ]
     },
     "metadata": {},
     "output_type": "display_data"
    },
    {
     "name": "stdout",
     "output_type": "stream",
     "text": [
      "\n"
     ]
    }
   ],
   "source": [
    "vectors = []\n",
    "for keyword in tqdm(train_df.Keyword.values, total=train_df.shape[0]):\n",
    "    vectors.append(compute_elmo_embedding(keyword))"
   ]
  },
  {
   "cell_type": "code",
   "execution_count": 13,
   "metadata": {},
   "outputs": [],
   "source": [
    "vectors = pd.DataFrame.from_records(np.array(vectors),index=train_df.index)"
   ]
  },
  {
   "cell_type": "code",
   "execution_count": 14,
   "metadata": {},
   "outputs": [],
   "source": [
    "train_df = pd.concat([train_df, vectors], axis=1)"
   ]
  },
  {
   "cell_type": "code",
   "execution_count": 15,
   "metadata": {},
   "outputs": [
    {
     "data": {
      "text/plain": [
       "(142550, 780)"
      ]
     },
     "execution_count": 15,
     "metadata": {},
     "output_type": "execute_result"
    }
   ],
   "source": [
    "train_df.shape"
   ]
  },
  {
   "cell_type": "markdown",
   "metadata": {},
   "source": [
    "We save the embeddings along with the other features so it is faster to iterate when experimenting with machine learning models"
   ]
  },
  {
   "cell_type": "code",
   "execution_count": 16,
   "metadata": {},
   "outputs": [],
   "source": [
    "train_df.to_csv('embeddings_elmo.csv', index_label=False)"
   ]
  },
  {
   "cell_type": "markdown",
   "metadata": {},
   "source": [
    "# Training Regressors"
   ]
  },
  {
   "cell_type": "markdown",
   "metadata": {},
   "source": [
    "We choose to use the gradient boosted tree library named CatBoost from Yandex. It has been shown to improve upon the very popular XGBoost and LightGBM libraries and performs well for categorical variables. In our dataset we have Market, Year and Month as categorical variables. I have done some hyperparameter tuning beforehand and below are values I chose."
   ]
  },
  {
   "cell_type": "code",
   "execution_count": 114,
   "metadata": {},
   "outputs": [],
   "source": [
    "cbmodel = catboost.CatBoostRegressor(task_type='GPU', depth=16, grow_policy='Lossguide', max_leaves=63)"
   ]
  },
  {
   "cell_type": "markdown",
   "metadata": {},
   "source": [
    "We prepare a function to encapsulate cross validation"
   ]
  },
  {
   "cell_type": "code",
   "execution_count": 17,
   "metadata": {},
   "outputs": [],
   "source": [
    "def perform_cross_validation(model, train_df, target_df, k_folds=5, fit_params=None):\n",
    "    kf = KFold(n_splits=k_folds, shuffle=True, random_state=17)\n",
    "    scores = []\n",
    "    errors = []\n",
    "    i = 1\n",
    "\n",
    "    for train_indices, val_indices in tqdm(kf.split(train_df, target_df), total=k_folds):\n",
    "        print(\"Training on fold \" + str(i) + f\" of {k_folds}...\", end='')\n",
    "        i += 1\n",
    "        \n",
    "        if not fit_params:\n",
    "            model.fit(train_df.iloc[train_indices], target_df.iloc[train_indices])\n",
    "        else:\n",
    "            model.fit(train_df.iloc[train_indices], target_df.iloc[train_indices], **fit_params)\n",
    "        print(\" Done.\")\n",
    "        predicted_value = model.predict(train_df.iloc[val_indices])\n",
    "        actual_value = target_df.iloc[val_indices]\n",
    "        scores.append(explained_variance_score(actual_value, predicted_value))\n",
    "        errors.append(mean_absolute_error(actual_value, predicted_value))\n",
    "        \n",
    "    scores = np.array(scores)\n",
    "    errors = np.array(errors)\n",
    "    print(f\"Results:\\nscores: {scores.mean()} +/- {scores.std()}\")\n",
    "    print(f\"MAE: {errors.mean()} +/- {errors.std()}\")\n",
    "    return scores, errors"
   ]
  },
  {
   "cell_type": "markdown",
   "metadata": {},
   "source": [
    "We need to train a separate regressor for each target numerical feature. First we perform 5-fold cross-validation and compute the explained variance score and mean absolute error for each regressor. The closer to 1.0 the EV score is, the better the model is, while the smaller the MAE is, the better the model is.\n",
    "\n",
    "The sklearn docs has a detailed breakdown of regression metrics [here](https://scikit-learn.org/stable/modules/model_evaluation.html#regression-metrics)"
   ]
  },
  {
   "cell_type": "code",
   "execution_count": 128,
   "metadata": {},
   "outputs": [],
   "source": [
    "train_inputs = train_df.drop(['Season','Keyword','CTR', 'Clicks', 'Impressions', 'Cost', 'AveragePosition'], axis=1)\n",
    "cat_features = [1,3,4] # CatBoost performs better if you identify column indices of categorical features"
   ]
  },
  {
   "cell_type": "code",
   "execution_count": 131,
   "metadata": {},
   "outputs": [
    {
     "data": {
      "application/vnd.jupyter.widget-view+json": {
       "model_id": "c56d75b455fa47ddb8e1b562476f2044",
       "version_major": 2,
       "version_minor": 0
      },
      "text/plain": [
       "HBox(children=(IntProgress(value=0, max=5), HTML(value='')))"
      ]
     },
     "metadata": {},
     "output_type": "display_data"
    },
    {
     "name": "stdout",
     "output_type": "stream",
     "text": [
      "Training on fold 1 of 5... Done.\n",
      "Training on fold 2 of 5... Done.\n",
      "Training on fold 3 of 5... Done.\n",
      "Training on fold 4 of 5... Done.\n",
      "Training on fold 5 of 5... Done.\n",
      "\n",
      "Results:\n",
      "scores: 0.857199317259842 +/- 0.0013826916390928092\n",
      "MAE: 0.4756340001814621 +/- 0.002766557705139676\n"
     ]
    }
   ],
   "source": [
    "perform_cross_validation(cbmodel, train_inputs, train_df.CTR, fit_params={'cat_features':cat_features, 'verbose':False});"
   ]
  },
  {
   "cell_type": "code",
   "execution_count": 132,
   "metadata": {},
   "outputs": [
    {
     "data": {
      "application/vnd.jupyter.widget-view+json": {
       "model_id": "6ea9c16a1f0c4ef2a463e3f81c547dab",
       "version_major": 2,
       "version_minor": 0
      },
      "text/plain": [
       "HBox(children=(IntProgress(value=0, max=5), HTML(value='')))"
      ]
     },
     "metadata": {},
     "output_type": "display_data"
    },
    {
     "name": "stdout",
     "output_type": "stream",
     "text": [
      "Training on fold 1 of 5... Done.\n",
      "Training on fold 2 of 5... Done.\n",
      "Training on fold 3 of 5... Done.\n",
      "Training on fold 4 of 5... Done.\n",
      "Training on fold 5 of 5... Done.\n",
      "\n",
      "Results:\n",
      "scores: 0.9354116017991402 +/- 0.0014617189391723617\n",
      "MAE: 0.1815999779398072 +/- 0.0005864121940182363\n"
     ]
    }
   ],
   "source": [
    "perform_cross_validation(cbmodel, train_inputs, train_df.Clicks, fit_params={'cat_features':cat_features, 'verbose':False});"
   ]
  },
  {
   "cell_type": "code",
   "execution_count": 133,
   "metadata": {},
   "outputs": [
    {
     "data": {
      "application/vnd.jupyter.widget-view+json": {
       "model_id": "aa695a55e4bf450a879b0d4c931f9448",
       "version_major": 2,
       "version_minor": 0
      },
      "text/plain": [
       "HBox(children=(IntProgress(value=0, max=5), HTML(value='')))"
      ]
     },
     "metadata": {},
     "output_type": "display_data"
    },
    {
     "name": "stdout",
     "output_type": "stream",
     "text": [
      "Training on fold 1 of 5... Done.\n",
      "Training on fold 2 of 5... Done.\n",
      "Training on fold 3 of 5... Done.\n",
      "Training on fold 4 of 5...\n",
      " Done.\n",
      "Training on fold 5 of 5... Done.\n",
      "\n",
      "Results:\n",
      "scores: 0.9506809341907697 +/- 0.0009073600486482371\n",
      "MAE: 0.18496600106016417 +/- 0.0009618761953733562\n"
     ]
    }
   ],
   "source": [
    "perform_cross_validation(cbmodel, train_inputs, train_df.Cost, fit_params={'cat_features':cat_features, 'verbose':False});"
   ]
  },
  {
   "cell_type": "code",
   "execution_count": 134,
   "metadata": {},
   "outputs": [
    {
     "data": {
      "application/vnd.jupyter.widget-view+json": {
       "model_id": "c0017bdfc55d4cb8ad672f1fab830f7f",
       "version_major": 2,
       "version_minor": 0
      },
      "text/plain": [
       "HBox(children=(IntProgress(value=0, max=5), HTML(value='')))"
      ]
     },
     "metadata": {},
     "output_type": "display_data"
    },
    {
     "name": "stdout",
     "output_type": "stream",
     "text": [
      "Training on fold 1 of 5... Done.\n",
      "Training on fold 2 of 5... Done.\n",
      "Training on fold 3 of 5... Done.\n",
      "Training on fold 4 of 5... Done.\n",
      "Training on fold 5 of 5... Done.\n",
      "\n",
      "Results:\n",
      "scores: 0.9579082471076855 +/- 0.0007381083421909577\n",
      "MAE: 0.13909714664921663 +/- 0.0007171096090780626\n"
     ]
    }
   ],
   "source": [
    "perform_cross_validation(cbmodel, train_inputs, train_df.Impressions, fit_params={'cat_features':cat_features, 'verbose':False});"
   ]
  },
  {
   "cell_type": "code",
   "execution_count": 135,
   "metadata": {},
   "outputs": [
    {
     "data": {
      "application/vnd.jupyter.widget-view+json": {
       "model_id": "35f8194fd1c84906b4e0633aa03f87b8",
       "version_major": 2,
       "version_minor": 0
      },
      "text/plain": [
       "HBox(children=(IntProgress(value=0, max=5), HTML(value='')))"
      ]
     },
     "metadata": {},
     "output_type": "display_data"
    },
    {
     "name": "stdout",
     "output_type": "stream",
     "text": [
      "Training on fold 1 of 5... Done.\n",
      "Training on fold 2 of 5... Done.\n",
      "Training on fold 3 of 5... Done.\n",
      "Training on fold 4 of 5... Done.\n",
      "Training on fold 5 of 5... Done.\n",
      "\n",
      "Results:\n",
      "scores: 0.7158014788863788 +/- 0.03195369250490474\n",
      "MAE: 0.039145478275825936 +/- 0.0007969905130086278\n"
     ]
    }
   ],
   "source": [
    "perform_cross_validation(cbmodel, train_inputs, train_df.AveragePosition, fit_params={'cat_features':cat_features, 'verbose':False});"
   ]
  },
  {
   "cell_type": "markdown",
   "metadata": {},
   "source": [
    "After selection of hyperparameters, we will train regressors over the entire dataset and prepare a wrapper function that will take the predictor features and compute all target features"
   ]
  },
  {
   "cell_type": "code",
   "execution_count": 136,
   "metadata": {},
   "outputs": [],
   "source": [
    "ctr_predictor = catboost.CatBoostRegressor(task_type='GPU', depth=16, grow_policy='Lossguide', max_leaves=63)\n",
    "click_predictor = catboost.CatBoostRegressor(task_type='GPU', depth=16, grow_policy='Lossguide', max_leaves=63)\n",
    "ap_predictor = catboost.CatBoostRegressor(task_type='GPU', depth=16, grow_policy='Lossguide', max_leaves=63)\n",
    "impression_predictor = catboost.CatBoostRegressor(task_type='GPU', depth=16, grow_policy='Lossguide', max_leaves=63)\n",
    "cost_predictor = catboost.CatBoostRegressor(task_type='GPU', depth=16, grow_policy='Lossguide', max_leaves=63);"
   ]
  },
  {
   "cell_type": "code",
   "execution_count": 137,
   "metadata": {},
   "outputs": [],
   "source": [
    "ctr_predictor.fit(train_inputs,train_df.CTR, cat_features=cat_features, verbose=False);"
   ]
  },
  {
   "cell_type": "code",
   "execution_count": 138,
   "metadata": {},
   "outputs": [],
   "source": [
    "cost_predictor.fit(train_inputs,train_df.Cost, cat_features=cat_features, verbose=False);"
   ]
  },
  {
   "cell_type": "code",
   "execution_count": 139,
   "metadata": {},
   "outputs": [],
   "source": [
    "impression_predictor.fit(train_inputs,train_df.Impressions, cat_features=cat_features, verbose=False);"
   ]
  },
  {
   "cell_type": "code",
   "execution_count": 140,
   "metadata": {},
   "outputs": [],
   "source": [
    "click_predictor.fit(train_inputs,train_df.Clicks, cat_features=cat_features, verbose=False);"
   ]
  },
  {
   "cell_type": "code",
   "execution_count": 141,
   "metadata": {},
   "outputs": [],
   "source": [
    "ap_predictor.fit(train_inputs,train_df.AveragePosition, cat_features=cat_features, verbose=False);"
   ]
  },
  {
   "cell_type": "markdown",
   "metadata": {},
   "source": [
    "We save the regressors to disk so we can load them in the `evaluation.py` script"
   ]
  },
  {
   "cell_type": "code",
   "execution_count": 142,
   "metadata": {},
   "outputs": [],
   "source": [
    "prefix = 'models/with-date-wo-season'\n",
    "dump(ctr_predictor, prefix+'.ctr.joblib')\n",
    "dump(cost_predictor, prefix+'.cost.joblib')\n",
    "dump(impression_predictor, prefix+'.impr.joblib')\n",
    "dump(click_predictor, prefix+'.click.joblib')\n",
    "dump(ap_predictor, prefix+'.ap.joblib');"
   ]
  },
  {
   "cell_type": "markdown",
   "metadata": {},
   "source": [
    "## Constructing the Predictor() function"
   ]
  },
  {
   "cell_type": "code",
   "execution_count": 39,
   "metadata": {},
   "outputs": [],
   "source": [
    "def get_season(month):\n",
    "    if month >= 3 and month < 6:\n",
    "        return 1 # Spring\n",
    "    elif month >= 6 and month < 9:\n",
    "        return 2 # Summer\n",
    "    elif month >= 9 and month < 11:\n",
    "        return 3 # Fall\n",
    "    else: \n",
    "        return 4 # Winter"
   ]
  },
  {
   "cell_type": "code",
   "execution_count": 86,
   "metadata": {},
   "outputs": [],
   "source": [
    "def Predictor(Date, Market, Keyword, CPC, embedding_function=compute_elmo_embedding):\n",
    "    # NOTE: this function only takes a single datapoint at a time\n",
    "    # Each input must match the data type of the corresponding column in the original dataset, then \n",
    "    # the same data transformations are applied as in the EDA notebook\n",
    "    year = int(Date[:4])\n",
    "    month = int(Date[4:6])\n",
    "    season = get_season(month)\n",
    "    market = 1 if Market == 'US-Market' else 0\n",
    "    cpc = np.log2(CPC)\n",
    "    keyword = Keyword.lower()\n",
    "    vector = list(embedding_function(keyword))\n",
    "    input_vector = [Date, market, cpc, year, month, season, *vector]\n",
    "    ctr = ctr_predictor.predict(input_vector)\n",
    "    clicks = click_predictor.predict(input_vector)\n",
    "    averageposition = ap_predictor.predict(input_vector)\n",
    "    impressions = impression_predictor.predict(input_vector)\n",
    "    cost = cost_predictor.predict(input_vector)\n",
    "    return ctr, 10**clicks, 10**impressions, 10**cost, averageposition"
   ]
  },
  {
   "cell_type": "markdown",
   "metadata": {},
   "source": [
    "Now we can go ahead and try out our predictor function"
   ]
  },
  {
   "cell_type": "code",
   "execution_count": 41,
   "metadata": {},
   "outputs": [
    {
     "data": {
      "text/plain": [
       "(9.13484179228817,\n",
       " 13.023005634660755,\n",
       " 185.93421578419878,\n",
       " 15.688379451107428,\n",
       " 1.0002161035330488)"
      ]
     },
     "execution_count": 41,
     "metadata": {},
     "output_type": "execute_result"
    }
   ],
   "source": [
    "Predictor('20120524', 'US-Market', 'agile management software', 1.2)"
   ]
  },
  {
   "cell_type": "code",
   "execution_count": 42,
   "metadata": {},
   "outputs": [],
   "source": [
    "raw_data = pd.read_csv('dataset.csv')"
   ]
  },
  {
   "cell_type": "code",
   "execution_count": 43,
   "metadata": {},
   "outputs": [
    {
     "data": {
      "text/html": [
       "<div>\n",
       "<style scoped>\n",
       "    .dataframe tbody tr th:only-of-type {\n",
       "        vertical-align: middle;\n",
       "    }\n",
       "\n",
       "    .dataframe tbody tr th {\n",
       "        vertical-align: top;\n",
       "    }\n",
       "\n",
       "    .dataframe thead th {\n",
       "        text-align: right;\n",
       "    }\n",
       "</style>\n",
       "<table border=\"1\" class=\"dataframe\">\n",
       "  <thead>\n",
       "    <tr style=\"text-align: right;\">\n",
       "      <th></th>\n",
       "      <th>Date</th>\n",
       "      <th>Market</th>\n",
       "      <th>Keyword</th>\n",
       "      <th>Average.Position</th>\n",
       "      <th>CPC</th>\n",
       "      <th>Clicks</th>\n",
       "      <th>CTR</th>\n",
       "      <th>Impressions</th>\n",
       "      <th>Cost</th>\n",
       "    </tr>\n",
       "  </thead>\n",
       "  <tbody>\n",
       "    <tr>\n",
       "      <td>0</td>\n",
       "      <td>20120524</td>\n",
       "      <td>US-Market</td>\n",
       "      <td>secure online back up</td>\n",
       "      <td>0.0</td>\n",
       "      <td>0.0</td>\n",
       "      <td>0.00</td>\n",
       "      <td>0.00%</td>\n",
       "      <td>0.0</td>\n",
       "      <td>0.00</td>\n",
       "    </tr>\n",
       "    <tr>\n",
       "      <td>1</td>\n",
       "      <td>20120524</td>\n",
       "      <td>US-Market</td>\n",
       "      <td>agile management software</td>\n",
       "      <td>1.0</td>\n",
       "      <td>1.2</td>\n",
       "      <td>21.22</td>\n",
       "      <td>8.20%</td>\n",
       "      <td>260.0</td>\n",
       "      <td>25.45</td>\n",
       "    </tr>\n",
       "    <tr>\n",
       "      <td>2</td>\n",
       "      <td>20120524</td>\n",
       "      <td>US-Market</td>\n",
       "      <td>crm for financial</td>\n",
       "      <td>0.0</td>\n",
       "      <td>0.0</td>\n",
       "      <td>0.00</td>\n",
       "      <td>0.00%</td>\n",
       "      <td>0.0</td>\n",
       "      <td>0.00</td>\n",
       "    </tr>\n",
       "    <tr>\n",
       "      <td>3</td>\n",
       "      <td>20120524</td>\n",
       "      <td>US-Market</td>\n",
       "      <td>disaster recovery planning for it</td>\n",
       "      <td>0.0</td>\n",
       "      <td>0.0</td>\n",
       "      <td>0.00</td>\n",
       "      <td>0.00%</td>\n",
       "      <td>0.0</td>\n",
       "      <td>0.00</td>\n",
       "    </tr>\n",
       "    <tr>\n",
       "      <td>4</td>\n",
       "      <td>20120524</td>\n",
       "      <td>US-Market</td>\n",
       "      <td>tracking a vehicle</td>\n",
       "      <td>0.0</td>\n",
       "      <td>0.0</td>\n",
       "      <td>0.00</td>\n",
       "      <td>0.00%</td>\n",
       "      <td>0.0</td>\n",
       "      <td>0.00</td>\n",
       "    </tr>\n",
       "  </tbody>\n",
       "</table>\n",
       "</div>"
      ],
      "text/plain": [
       "       Date     Market                            Keyword  Average.Position  \\\n",
       "0  20120524  US-Market              secure online back up               0.0   \n",
       "1  20120524  US-Market          agile management software               1.0   \n",
       "2  20120524  US-Market                  crm for financial               0.0   \n",
       "3  20120524  US-Market  disaster recovery planning for it               0.0   \n",
       "4  20120524  US-Market                 tracking a vehicle               0.0   \n",
       "\n",
       "   CPC  Clicks    CTR  Impressions   Cost  \n",
       "0  0.0    0.00  0.00%          0.0   0.00  \n",
       "1  1.2   21.22  8.20%        260.0  25.45  \n",
       "2  0.0    0.00  0.00%          0.0   0.00  \n",
       "3  0.0    0.00  0.00%          0.0   0.00  \n",
       "4  0.0    0.00  0.00%          0.0   0.00  "
      ]
     },
     "execution_count": 43,
     "metadata": {},
     "output_type": "execute_result"
    }
   ],
   "source": [
    "raw_data.head()"
   ]
  },
  {
   "cell_type": "markdown",
   "metadata": {},
   "source": [
    "You can now try out the predictor function encapsulated in the `evaluation.py` script."
   ]
  }
 ],
 "metadata": {
  "kernelspec": {
   "display_name": "Python 3",
   "language": "python",
   "name": "python3"
  },
  "language_info": {
   "codemirror_mode": {
    "name": "ipython",
    "version": 3
   },
   "file_extension": ".py",
   "mimetype": "text/x-python",
   "name": "python",
   "nbconvert_exporter": "python",
   "pygments_lexer": "ipython3",
   "version": "3.7.4"
  }
 },
 "nbformat": 4,
 "nbformat_minor": 2
}
