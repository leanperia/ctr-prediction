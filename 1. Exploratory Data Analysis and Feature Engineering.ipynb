{
 "cells": [
  {
   "cell_type": "code",
   "execution_count": 1,
   "metadata": {},
   "outputs": [],
   "source": [
    "import pandas as pd\n",
    "import matplotlib.pyplot as plt\n",
    "import numpy as np"
   ]
  },
  {
   "cell_type": "code",
   "execution_count": 2,
   "metadata": {},
   "outputs": [],
   "source": [
    "data = pd.read_csv('dataset.csv')"
   ]
  },
  {
   "cell_type": "code",
   "execution_count": 3,
   "metadata": {},
   "outputs": [],
   "source": [
    "data['AveragePosition'] = data['Average.Position']\n",
    "data.drop('Average.Position', axis=1, inplace=True)"
   ]
  },
  {
   "cell_type": "markdown",
   "metadata": {},
   "source": [
    "# Data cleaning and exploration"
   ]
  },
  {
   "cell_type": "markdown",
   "metadata": {},
   "source": [
    "We remove the rows with any null values"
   ]
  },
  {
   "cell_type": "code",
   "execution_count": 4,
   "metadata": {},
   "outputs": [],
   "source": [
    "data.dropna(inplace=True)"
   ]
  },
  {
   "cell_type": "markdown",
   "metadata": {},
   "source": [
    "This removes 3514 rows, which is only 0.98% of the original dataset"
   ]
  },
  {
   "cell_type": "markdown",
   "metadata": {},
   "source": [
    "Next we have to convert the CTR values from string to float values"
   ]
  },
  {
   "cell_type": "code",
   "execution_count": 5,
   "metadata": {},
   "outputs": [],
   "source": [
    "data.CTR = data.CTR.apply(lambda x: x[:-1]).astype('float64')"
   ]
  },
  {
   "cell_type": "code",
   "execution_count": 6,
   "metadata": {},
   "outputs": [
    {
     "data": {
      "text/html": [
       "<div>\n",
       "<style scoped>\n",
       "    .dataframe tbody tr th:only-of-type {\n",
       "        vertical-align: middle;\n",
       "    }\n",
       "\n",
       "    .dataframe tbody tr th {\n",
       "        vertical-align: top;\n",
       "    }\n",
       "\n",
       "    .dataframe thead th {\n",
       "        text-align: right;\n",
       "    }\n",
       "</style>\n",
       "<table border=\"1\" class=\"dataframe\">\n",
       "  <thead>\n",
       "    <tr style=\"text-align: right;\">\n",
       "      <th></th>\n",
       "      <th>Date</th>\n",
       "      <th>Market</th>\n",
       "      <th>Keyword</th>\n",
       "      <th>CPC</th>\n",
       "      <th>Clicks</th>\n",
       "      <th>CTR</th>\n",
       "      <th>Impressions</th>\n",
       "      <th>Cost</th>\n",
       "      <th>AveragePosition</th>\n",
       "    </tr>\n",
       "  </thead>\n",
       "  <tbody>\n",
       "    <tr>\n",
       "      <td>0</td>\n",
       "      <td>20120524</td>\n",
       "      <td>US-Market</td>\n",
       "      <td>secure online back up</td>\n",
       "      <td>0.0</td>\n",
       "      <td>0.00</td>\n",
       "      <td>0.0</td>\n",
       "      <td>0.0</td>\n",
       "      <td>0.00</td>\n",
       "      <td>0.0</td>\n",
       "    </tr>\n",
       "    <tr>\n",
       "      <td>1</td>\n",
       "      <td>20120524</td>\n",
       "      <td>US-Market</td>\n",
       "      <td>agile management software</td>\n",
       "      <td>1.2</td>\n",
       "      <td>21.22</td>\n",
       "      <td>8.2</td>\n",
       "      <td>260.0</td>\n",
       "      <td>25.45</td>\n",
       "      <td>1.0</td>\n",
       "    </tr>\n",
       "    <tr>\n",
       "      <td>2</td>\n",
       "      <td>20120524</td>\n",
       "      <td>US-Market</td>\n",
       "      <td>crm for financial</td>\n",
       "      <td>0.0</td>\n",
       "      <td>0.00</td>\n",
       "      <td>0.0</td>\n",
       "      <td>0.0</td>\n",
       "      <td>0.00</td>\n",
       "      <td>0.0</td>\n",
       "    </tr>\n",
       "    <tr>\n",
       "      <td>3</td>\n",
       "      <td>20120524</td>\n",
       "      <td>US-Market</td>\n",
       "      <td>disaster recovery planning for it</td>\n",
       "      <td>0.0</td>\n",
       "      <td>0.00</td>\n",
       "      <td>0.0</td>\n",
       "      <td>0.0</td>\n",
       "      <td>0.00</td>\n",
       "      <td>0.0</td>\n",
       "    </tr>\n",
       "    <tr>\n",
       "      <td>4</td>\n",
       "      <td>20120524</td>\n",
       "      <td>US-Market</td>\n",
       "      <td>tracking a vehicle</td>\n",
       "      <td>0.0</td>\n",
       "      <td>0.00</td>\n",
       "      <td>0.0</td>\n",
       "      <td>0.0</td>\n",
       "      <td>0.00</td>\n",
       "      <td>0.0</td>\n",
       "    </tr>\n",
       "  </tbody>\n",
       "</table>\n",
       "</div>"
      ],
      "text/plain": [
       "       Date     Market                            Keyword  CPC  Clicks  CTR  \\\n",
       "0  20120524  US-Market              secure online back up  0.0    0.00  0.0   \n",
       "1  20120524  US-Market          agile management software  1.2   21.22  8.2   \n",
       "2  20120524  US-Market                  crm for financial  0.0    0.00  0.0   \n",
       "3  20120524  US-Market  disaster recovery planning for it  0.0    0.00  0.0   \n",
       "4  20120524  US-Market                 tracking a vehicle  0.0    0.00  0.0   \n",
       "\n",
       "   Impressions   Cost  AveragePosition  \n",
       "0          0.0   0.00              0.0  \n",
       "1        260.0  25.45              1.0  \n",
       "2          0.0   0.00              0.0  \n",
       "3          0.0   0.00              0.0  \n",
       "4          0.0   0.00              0.0  "
      ]
     },
     "execution_count": 6,
     "metadata": {},
     "output_type": "execute_result"
    }
   ],
   "source": [
    "data.head()"
   ]
  },
  {
   "cell_type": "code",
   "execution_count": 7,
   "metadata": {},
   "outputs": [
    {
     "data": {
      "text/html": [
       "<div>\n",
       "<style scoped>\n",
       "    .dataframe tbody tr th:only-of-type {\n",
       "        vertical-align: middle;\n",
       "    }\n",
       "\n",
       "    .dataframe tbody tr th {\n",
       "        vertical-align: top;\n",
       "    }\n",
       "\n",
       "    .dataframe thead th {\n",
       "        text-align: right;\n",
       "    }\n",
       "</style>\n",
       "<table border=\"1\" class=\"dataframe\">\n",
       "  <thead>\n",
       "    <tr style=\"text-align: right;\">\n",
       "      <th></th>\n",
       "      <th>Date</th>\n",
       "      <th>CPC</th>\n",
       "      <th>Clicks</th>\n",
       "      <th>CTR</th>\n",
       "      <th>Impressions</th>\n",
       "      <th>Cost</th>\n",
       "      <th>AveragePosition</th>\n",
       "    </tr>\n",
       "  </thead>\n",
       "  <tbody>\n",
       "    <tr>\n",
       "      <td>count</td>\n",
       "      <td>3.525400e+05</td>\n",
       "      <td>352540.000000</td>\n",
       "      <td>352540.000000</td>\n",
       "      <td>352540.000000</td>\n",
       "      <td>3.525400e+05</td>\n",
       "      <td>352540.000000</td>\n",
       "      <td>352540.000000</td>\n",
       "    </tr>\n",
       "    <tr>\n",
       "      <td>mean</td>\n",
       "      <td>2.012271e+07</td>\n",
       "      <td>14.287964</td>\n",
       "      <td>220.299838</td>\n",
       "      <td>1.630900</td>\n",
       "      <td>9.758862e+03</td>\n",
       "      <td>1900.441204</td>\n",
       "      <td>0.611163</td>\n",
       "    </tr>\n",
       "    <tr>\n",
       "      <td>std</td>\n",
       "      <td>3.589467e+03</td>\n",
       "      <td>37.882436</td>\n",
       "      <td>1719.222177</td>\n",
       "      <td>2.033744</td>\n",
       "      <td>7.145521e+04</td>\n",
       "      <td>10060.075649</td>\n",
       "      <td>0.644052</td>\n",
       "    </tr>\n",
       "    <tr>\n",
       "      <td>min</td>\n",
       "      <td>2.012052e+07</td>\n",
       "      <td>0.000000</td>\n",
       "      <td>0.000000</td>\n",
       "      <td>0.000000</td>\n",
       "      <td>0.000000e+00</td>\n",
       "      <td>0.000000</td>\n",
       "      <td>0.000000</td>\n",
       "    </tr>\n",
       "    <tr>\n",
       "      <td>25%</td>\n",
       "      <td>2.012090e+07</td>\n",
       "      <td>0.000000</td>\n",
       "      <td>0.000000</td>\n",
       "      <td>0.000000</td>\n",
       "      <td>0.000000e+00</td>\n",
       "      <td>0.000000</td>\n",
       "      <td>0.000000</td>\n",
       "    </tr>\n",
       "    <tr>\n",
       "      <td>50%</td>\n",
       "      <td>2.012102e+07</td>\n",
       "      <td>1.080000</td>\n",
       "      <td>2.090000</td>\n",
       "      <td>0.800000</td>\n",
       "      <td>1.270000e+02</td>\n",
       "      <td>7.930000</td>\n",
       "      <td>1.000000</td>\n",
       "    </tr>\n",
       "    <tr>\n",
       "      <td>75%</td>\n",
       "      <td>2.012122e+07</td>\n",
       "      <td>12.070000</td>\n",
       "      <td>34.870000</td>\n",
       "      <td>2.800000</td>\n",
       "      <td>1.553000e+03</td>\n",
       "      <td>369.810000</td>\n",
       "      <td>1.000000</td>\n",
       "    </tr>\n",
       "    <tr>\n",
       "      <td>max</td>\n",
       "      <td>2.013021e+07</td>\n",
       "      <td>632.730000</td>\n",
       "      <td>89233.580000</td>\n",
       "      <td>23.700000</td>\n",
       "      <td>3.666042e+06</td>\n",
       "      <td>285716.050000</td>\n",
       "      <td>12.000000</td>\n",
       "    </tr>\n",
       "  </tbody>\n",
       "</table>\n",
       "</div>"
      ],
      "text/plain": [
       "               Date            CPC         Clicks            CTR  \\\n",
       "count  3.525400e+05  352540.000000  352540.000000  352540.000000   \n",
       "mean   2.012271e+07      14.287964     220.299838       1.630900   \n",
       "std    3.589467e+03      37.882436    1719.222177       2.033744   \n",
       "min    2.012052e+07       0.000000       0.000000       0.000000   \n",
       "25%    2.012090e+07       0.000000       0.000000       0.000000   \n",
       "50%    2.012102e+07       1.080000       2.090000       0.800000   \n",
       "75%    2.012122e+07      12.070000      34.870000       2.800000   \n",
       "max    2.013021e+07     632.730000   89233.580000      23.700000   \n",
       "\n",
       "        Impressions           Cost  AveragePosition  \n",
       "count  3.525400e+05  352540.000000    352540.000000  \n",
       "mean   9.758862e+03    1900.441204         0.611163  \n",
       "std    7.145521e+04   10060.075649         0.644052  \n",
       "min    0.000000e+00       0.000000         0.000000  \n",
       "25%    0.000000e+00       0.000000         0.000000  \n",
       "50%    1.270000e+02       7.930000         1.000000  \n",
       "75%    1.553000e+03     369.810000         1.000000  \n",
       "max    3.666042e+06  285716.050000        12.000000  "
      ]
     },
     "execution_count": 7,
     "metadata": {},
     "output_type": "execute_result"
    }
   ],
   "source": [
    "data.describe()"
   ]
  },
  {
   "cell_type": "markdown",
   "metadata": {},
   "source": [
    "Notice that there are a lot of zeroes in the dataset. For the six numeric features (CPC, CTR, clicks, impressions, cost and average position), **the 25th percentile is zero**. In addition, **the CPC, CTR, clicks, impressions and cost features are heavily skewed to the right** as easily determined by comparing their 75th percetile to their mean values. We might need to eliminate a lot of rows in the dataset to have meaningful predictions. In addition, taking the logarithm of Clicks and Impressions will improve their suitability for machine learning models.\n",
    "\n",
    "We have to investigate further into the frequency of zeroes in the dataset:"
   ]
  },
  {
   "cell_type": "code",
   "execution_count": 8,
   "metadata": {},
   "outputs": [
    {
     "data": {
      "text/plain": [
       "148945"
      ]
     },
     "execution_count": 8,
     "metadata": {},
     "output_type": "execute_result"
    }
   ],
   "source": [
    "zeroCPCrows = data[data.CPC == 0.0]\n",
    "zeroCPCrows.shape[0]"
   ]
  },
  {
   "cell_type": "code",
   "execution_count": 9,
   "metadata": {},
   "outputs": [
    {
     "data": {
      "text/plain": [
       "(0.0, 0.0, 0.0)"
      ]
     },
     "execution_count": 9,
     "metadata": {},
     "output_type": "execute_result"
    }
   ],
   "source": [
    "zeroCPCrows.Clicks.sum(), zeroCPCrows.CTR.sum(), zeroCPCrows.Cost.sum()"
   ]
  },
  {
   "cell_type": "markdown",
   "metadata": {},
   "source": [
    "We see that there are 148,945 rows with zero CPC. Also, **a zero CPC immediately implies zero Clicks, CTR and cost** in the dataset."
   ]
  },
  {
   "cell_type": "code",
   "execution_count": 10,
   "metadata": {},
   "outputs": [
    {
     "data": {
      "text/plain": [
       "48"
      ]
     },
     "execution_count": 10,
     "metadata": {},
     "output_type": "execute_result"
    }
   ],
   "source": [
    "subset_zeroCPCrows = zeroCPCrows[(zeroCPCrows.Impressions != 0) | (zeroCPCrows.AveragePosition != 0)]\n",
    "subset_zeroCPCrows.shape[0]"
   ]
  },
  {
   "cell_type": "markdown",
   "metadata": {},
   "source": [
    "There are 48 rows with zero CPC but nonzero Impressions or Average Position. Let's filter them out and call the resulting dataframe `fullyzeroCPCrows`"
   ]
  },
  {
   "cell_type": "code",
   "execution_count": 11,
   "metadata": {},
   "outputs": [
    {
     "data": {
      "text/plain": [
       "(148897, 837)"
      ]
     },
     "execution_count": 11,
     "metadata": {},
     "output_type": "execute_result"
    }
   ],
   "source": [
    "fullyzeroCPCrows = zeroCPCrows[(zeroCPCrows.Impressions == 0) & (zeroCPCrows.AveragePosition == 0)]\n",
    "fullyzeroCPCrows.shape[0], fullyzeroCPCrows.Keyword.nunique() "
   ]
  },
  {
   "cell_type": "markdown",
   "metadata": {},
   "source": [
    "There are 148,897 rows with zero CPC, CTR, Clicks, Cost, Impressions and Average Position. **This is 42% of the whole dataset!** But before we make any decisions, let's review some definitions first.\n",
    "\n",
    "According to Google Ads:\n",
    "- CTR is the total number of clicks that your ad receives divided by the total number of times your ad is shown. A high CPC shows that users find your ads useful and relevant. [Source.](https://support.google.com/google-ads/answer/2615875?hl=en) $$ \\textbf{CTR} = \\frac{\\textbf{total clicks}}{\\textbf{total impressions}}$$\n",
    "- CPC is the average amount that you've been charged for a click on your ad. [Source.](https://support.google.com/google-ads/answer/14074?hl=en&ref_topic=24937) $$ \\textbf{CPC} = \\frac{\\textbf{total cost}}{\\textbf{total clicks}}$$\n",
    "- Ad position is the order in which your ad appears on a page in relation to other ads. For example, an ad position of \"1\" means that your ad has the highest position on the page relative to other ads of the same type. [Source.](https://support.google.com/google-ads/answer/6300?hl=en&ref_topic=24937) The 'Position 0' is commonly used to refer to ads that land as the featured snippet in a google search query. ([Source1](https://www.searchenginejournal.com/content-types-position-zero/232453/#close), [Source2](https://www.searchenginejournal.com/content-types-position-zero/232453/#close)) However Google only introduced featured snippets in 2014, but our dataset contains data from 2012-2013\n",
    "\n",
    "There are multiple possible interpretations for a zero CPC. For example, a keyword might have zero CPC because it's free to use and deemed unpopular. A zero CPC might be an error in the data collection procedure (which is very likely since 42% of the data points have zeroes for six features). However notice that almost all rows with zero CPC had zero Average Position, and this might have a relation with the fact that 'Position 0' is associated with an ad landing in the featured snippet, which might be free-of-cost for the advertiser. However this last interpretation is troublesome because as mentioned, featured snippets have not yet existed at the time of the dataset's collection. In addition if they were indeed featured snippets then they should have had high impressions and CTR. Regardless, we should still take a look at how the unique keywords in the dataset are distributed:"
   ]
  },
  {
   "cell_type": "code",
   "execution_count": 12,
   "metadata": {},
   "outputs": [
    {
     "data": {
      "text/plain": [
       "<matplotlib_venn._common.VennDiagram at 0x7ff515a72190>"
      ]
     },
     "execution_count": 12,
     "metadata": {},
     "output_type": "execute_result"
    },
    {
     "data": {
      "image/png": "[encoded data removed]",
      "text/plain": [
       "<Figure size 432x288 with 1 Axes>"
      ]
     },
     "metadata": {},
     "output_type": "display_data"
    }
   ],
   "source": [
    "from matplotlib_venn import venn2\n",
    "fullyzeroCPCkeywords = set(fullyzeroCPCrows.Keyword.unique())\n",
    "nonzeroCPCkeywords = set(data[data.CPC!=0].Keyword.unique())\n",
    "venn2([fullyzeroCPCkeywords, nonzeroCPCkeywords], ['zero CPC', 'nonzero CPC'])"
   ]
  },
  {
   "cell_type": "markdown",
   "metadata": {},
   "source": [
    "Here we isolated the unique keywords of the rows for which CPC != 0 (named `nonzeroCPCkeywords`) and took a Venn diagram with the set of unique keywords contained in `fullyzeroCPCrows`. The intersection contains 693 words, and there are 1018 total unique keywords in the dataset.\n",
    "\n",
    "In summary, only 14% of the unique keywords will be thrown out if we discard all rows with zeroes for six numeric features. This still looks like a significant number of unique keywords our ML model will not be trained on. This is however an okay price to pay because the alternative is including the 693 keywords for which there are both meaningful data points *and* meaningless data points (six features zeroed out) - clearly something that will confuse the model. Also, since 42% of the data will have zero values for six numeric features, they will heavily pull the predicted values to the left.\n",
    "\n",
    "Thus we conclude: **for a more stable result we will get rid of the rows with zero CPC.** However, also note that there are rows where CPC is zero but either AveragePosition or Impressions is nonzero. We will keep these rows because they might represent keywords that are very uninteresting, because people saw them but did not click at all."
   ]
  },
  {
   "cell_type": "code",
   "execution_count": 13,
   "metadata": {},
   "outputs": [],
   "source": [
    "data = data[(data.CPC != 0.0) | (data.AveragePosition != 0.0) | (data.Impressions != 0.0)]"
   ]
  },
  {
   "cell_type": "code",
   "execution_count": 14,
   "metadata": {},
   "outputs": [
    {
     "name": "stdout",
     "output_type": "stream",
     "text": [
      "<class 'pandas.core.frame.DataFrame'>\n",
      "Int64Index: 203643 entries, 1 to 356039\n",
      "Data columns (total 9 columns):\n",
      "Date               203643 non-null int64\n",
      "Market             203643 non-null object\n",
      "Keyword            203643 non-null object\n",
      "CPC                203643 non-null float64\n",
      "Clicks             203643 non-null float64\n",
      "CTR                203643 non-null float64\n",
      "Impressions        203643 non-null float64\n",
      "Cost               203643 non-null float64\n",
      "AveragePosition    203643 non-null float64\n",
      "dtypes: float64(6), int64(1), object(2)\n",
      "memory usage: 15.5+ MB\n"
     ]
    }
   ],
   "source": [
    "data.info()"
   ]
  },
  {
   "cell_type": "markdown",
   "metadata": {},
   "source": [
    "We are now left with 203,643 data points."
   ]
  },
  {
   "cell_type": "markdown",
   "metadata": {},
   "source": [
    "## Further data exploration and data preparation"
   ]
  },
  {
   "cell_type": "markdown",
   "metadata": {},
   "source": [
    "This is the distribution of Market values:"
   ]
  },
  {
   "cell_type": "code",
   "execution_count": 15,
   "metadata": {},
   "outputs": [
    {
     "data": {
      "text/plain": [
       "US-Market    0.682729\n",
       "UK-Market    0.317271\n",
       "Name: Market, dtype: float64"
      ]
     },
     "execution_count": 15,
     "metadata": {},
     "output_type": "execute_result"
    }
   ],
   "source": [
    "data.Market.value_counts(normalize=True)"
   ]
  },
  {
   "cell_type": "markdown",
   "metadata": {},
   "source": [
    "This is the distribution of date values per year:"
   ]
  },
  {
   "cell_type": "code",
   "execution_count": 16,
   "metadata": {},
   "outputs": [],
   "source": [
    "data['Year'] = data.Date.astype('str').apply(lambda x: x[:4]).astype('int')"
   ]
  },
  {
   "cell_type": "code",
   "execution_count": 17,
   "metadata": {},
   "outputs": [
    {
     "data": {
      "text/plain": [
       "2012    0.794351\n",
       "2013    0.205649\n",
       "Name: Year, dtype: float64"
      ]
     },
     "execution_count": 17,
     "metadata": {},
     "output_type": "execute_result"
    }
   ],
   "source": [
    "data.Year.value_counts(normalize=True)"
   ]
  },
  {
   "cell_type": "markdown",
   "metadata": {},
   "source": [
    "This is the distribution of values for different months in 2012. The dataset starts from May until December 2012."
   ]
  },
  {
   "cell_type": "code",
   "execution_count": 18,
   "metadata": {},
   "outputs": [],
   "source": [
    "data['Month'] = data.Date.astype('str').apply(lambda x: x[4:6]).astype('int')"
   ]
  },
  {
   "cell_type": "code",
   "execution_count": 19,
   "metadata": {},
   "outputs": [
    {
     "data": {
      "text/plain": [
       "<matplotlib.axes._subplots.AxesSubplot at 0x7ff513a343d0>"
      ]
     },
     "execution_count": 19,
     "metadata": {},
     "output_type": "execute_result"
    },
    {
     "data": {
      "image/png": "[encoded data removed]",
      "text/plain": [
       "<Figure size 432x288 with 1 Axes>"
      ]
     },
     "metadata": {
      "needs_background": "light"
     },
     "output_type": "display_data"
    }
   ],
   "source": [
    "data.Month[data.Year == 2012].hist()"
   ]
  },
  {
   "cell_type": "markdown",
   "metadata": {},
   "source": [
    "The graph below is for 2013. Note that only January and February are in the dataset"
   ]
  },
  {
   "cell_type": "code",
   "execution_count": 20,
   "metadata": {},
   "outputs": [
    {
     "data": {
      "text/plain": [
       "<matplotlib.axes._subplots.AxesSubplot at 0x7ff5125c3e10>"
      ]
     },
     "execution_count": 20,
     "metadata": {},
     "output_type": "execute_result"
    },
    {
     "data": {
      "image/png": "[encoded data removed]",
      "text/plain": [
       "<Figure size 432x288 with 1 Axes>"
      ]
     },
     "metadata": {
      "needs_background": "light"
     },
     "output_type": "display_data"
    }
   ],
   "source": [
    "data.Month[data.Year == 2013].hist()"
   ]
  },
  {
   "cell_type": "markdown",
   "metadata": {},
   "source": [
    "Let's derive one more categorical feature from the date - the season:"
   ]
  },
  {
   "cell_type": "code",
   "execution_count": 21,
   "metadata": {},
   "outputs": [],
   "source": [
    "def get_season(month):\n",
    "    if month >= 3 and month < 6:\n",
    "        return 1 # Spring\n",
    "    elif month >= 6 and month < 9:\n",
    "        return 2 # Summer\n",
    "    elif month >= 9 and month < 11:\n",
    "        return 3 # Fall\n",
    "    else: \n",
    "        return 4 # Winter\n",
    "\n",
    "data['Season'] = data.Month.apply(get_season)"
   ]
  },
  {
   "cell_type": "code",
   "execution_count": 22,
   "metadata": {},
   "outputs": [
    {
     "data": {
      "text/plain": [
       "<matplotlib.axes._subplots.AxesSubplot at 0x7ff51594f890>"
      ]
     },
     "execution_count": 22,
     "metadata": {},
     "output_type": "execute_result"
    },
    {
     "data": {
      "image/png": "[encoded data removed]",
      "text/plain": [
       "<Figure size 432x288 with 1 Axes>"
      ]
     },
     "metadata": {
      "needs_background": "light"
     },
     "output_type": "display_data"
    }
   ],
   "source": [
    "data.Season.hist()"
   ]
  },
  {
   "cell_type": "markdown",
   "metadata": {},
   "source": [
    "**Most of our data is in Winter.** If we want good performance from our model, we should collect data equally from every month because the time of the year affects which keyword searches are popular"
   ]
  },
  {
   "cell_type": "code",
   "execution_count": 23,
   "metadata": {},
   "outputs": [
    {
     "data": {
      "text/html": [
       "<div>\n",
       "<style scoped>\n",
       "    .dataframe tbody tr th:only-of-type {\n",
       "        vertical-align: middle;\n",
       "    }\n",
       "\n",
       "    .dataframe tbody tr th {\n",
       "        vertical-align: top;\n",
       "    }\n",
       "\n",
       "    .dataframe thead th {\n",
       "        text-align: right;\n",
       "    }\n",
       "</style>\n",
       "<table border=\"1\" class=\"dataframe\">\n",
       "  <thead>\n",
       "    <tr style=\"text-align: right;\">\n",
       "      <th></th>\n",
       "      <th>Date</th>\n",
       "      <th>CPC</th>\n",
       "      <th>Clicks</th>\n",
       "      <th>CTR</th>\n",
       "      <th>Impressions</th>\n",
       "      <th>Cost</th>\n",
       "      <th>AveragePosition</th>\n",
       "      <th>Year</th>\n",
       "      <th>Month</th>\n",
       "      <th>Season</th>\n",
       "    </tr>\n",
       "  </thead>\n",
       "  <tbody>\n",
       "    <tr>\n",
       "      <td>count</td>\n",
       "      <td>2.036430e+05</td>\n",
       "      <td>203643.000000</td>\n",
       "      <td>203643.000000</td>\n",
       "      <td>203643.000000</td>\n",
       "      <td>2.036430e+05</td>\n",
       "      <td>203643.000000</td>\n",
       "      <td>203643.000000</td>\n",
       "      <td>203643.000000</td>\n",
       "      <td>203643.000000</td>\n",
       "      <td>203643.000000</td>\n",
       "    </tr>\n",
       "    <tr>\n",
       "      <td>mean</td>\n",
       "      <td>2.012286e+07</td>\n",
       "      <td>24.734849</td>\n",
       "      <td>381.375764</td>\n",
       "      <td>2.823360</td>\n",
       "      <td>1.689422e+04</td>\n",
       "      <td>3289.980712</td>\n",
       "      <td>1.058026</td>\n",
       "      <td>2012.205649</td>\n",
       "      <td>7.908492</td>\n",
       "      <td>3.257613</td>\n",
       "    </tr>\n",
       "    <tr>\n",
       "      <td>std</td>\n",
       "      <td>3.703302e+03</td>\n",
       "      <td>47.180110</td>\n",
       "      <td>2248.428930</td>\n",
       "      <td>1.947706</td>\n",
       "      <td>9.337315e+04</td>\n",
       "      <td>13062.608075</td>\n",
       "      <td>0.495277</td>\n",
       "      <td>0.404176</td>\n",
       "      <td>3.751943</td>\n",
       "      <td>0.827082</td>\n",
       "    </tr>\n",
       "    <tr>\n",
       "      <td>min</td>\n",
       "      <td>2.012052e+07</td>\n",
       "      <td>0.000000</td>\n",
       "      <td>0.000000</td>\n",
       "      <td>0.000000</td>\n",
       "      <td>1.200000e+01</td>\n",
       "      <td>0.000000</td>\n",
       "      <td>1.000000</td>\n",
       "      <td>2012.000000</td>\n",
       "      <td>1.000000</td>\n",
       "      <td>1.000000</td>\n",
       "    </tr>\n",
       "    <tr>\n",
       "      <td>25%</td>\n",
       "      <td>2.012090e+07</td>\n",
       "      <td>2.500000</td>\n",
       "      <td>5.380000</td>\n",
       "      <td>1.300000</td>\n",
       "      <td>2.620000e+02</td>\n",
       "      <td>31.340000</td>\n",
       "      <td>1.000000</td>\n",
       "      <td>2012.000000</td>\n",
       "      <td>7.000000</td>\n",
       "      <td>3.000000</td>\n",
       "    </tr>\n",
       "    <tr>\n",
       "      <td>50%</td>\n",
       "      <td>2.012103e+07</td>\n",
       "      <td>9.120000</td>\n",
       "      <td>23.980000</td>\n",
       "      <td>2.500000</td>\n",
       "      <td>1.051000e+03</td>\n",
       "      <td>233.030000</td>\n",
       "      <td>1.000000</td>\n",
       "      <td>2012.000000</td>\n",
       "      <td>9.000000</td>\n",
       "      <td>3.000000</td>\n",
       "    </tr>\n",
       "    <tr>\n",
       "      <td>75%</td>\n",
       "      <td>2.012122e+07</td>\n",
       "      <td>25.660000</td>\n",
       "      <td>114.625000</td>\n",
       "      <td>3.900000</td>\n",
       "      <td>4.721000e+03</td>\n",
       "      <td>1371.900000</td>\n",
       "      <td>1.000000</td>\n",
       "      <td>2012.000000</td>\n",
       "      <td>11.000000</td>\n",
       "      <td>4.000000</td>\n",
       "    </tr>\n",
       "    <tr>\n",
       "      <td>max</td>\n",
       "      <td>2.013021e+07</td>\n",
       "      <td>632.730000</td>\n",
       "      <td>89233.580000</td>\n",
       "      <td>23.700000</td>\n",
       "      <td>3.666042e+06</td>\n",
       "      <td>285716.050000</td>\n",
       "      <td>12.000000</td>\n",
       "      <td>2013.000000</td>\n",
       "      <td>12.000000</td>\n",
       "      <td>4.000000</td>\n",
       "    </tr>\n",
       "  </tbody>\n",
       "</table>\n",
       "</div>"
      ],
      "text/plain": [
       "               Date            CPC         Clicks            CTR  \\\n",
       "count  2.036430e+05  203643.000000  203643.000000  203643.000000   \n",
       "mean   2.012286e+07      24.734849     381.375764       2.823360   \n",
       "std    3.703302e+03      47.180110    2248.428930       1.947706   \n",
       "min    2.012052e+07       0.000000       0.000000       0.000000   \n",
       "25%    2.012090e+07       2.500000       5.380000       1.300000   \n",
       "50%    2.012103e+07       9.120000      23.980000       2.500000   \n",
       "75%    2.012122e+07      25.660000     114.625000       3.900000   \n",
       "max    2.013021e+07     632.730000   89233.580000      23.700000   \n",
       "\n",
       "        Impressions           Cost  AveragePosition           Year  \\\n",
       "count  2.036430e+05  203643.000000    203643.000000  203643.000000   \n",
       "mean   1.689422e+04    3289.980712         1.058026    2012.205649   \n",
       "std    9.337315e+04   13062.608075         0.495277       0.404176   \n",
       "min    1.200000e+01       0.000000         1.000000    2012.000000   \n",
       "25%    2.620000e+02      31.340000         1.000000    2012.000000   \n",
       "50%    1.051000e+03     233.030000         1.000000    2012.000000   \n",
       "75%    4.721000e+03    1371.900000         1.000000    2012.000000   \n",
       "max    3.666042e+06  285716.050000        12.000000    2013.000000   \n",
       "\n",
       "               Month         Season  \n",
       "count  203643.000000  203643.000000  \n",
       "mean        7.908492       3.257613  \n",
       "std         3.751943       0.827082  \n",
       "min         1.000000       1.000000  \n",
       "25%         7.000000       3.000000  \n",
       "50%         9.000000       3.000000  \n",
       "75%        11.000000       4.000000  \n",
       "max        12.000000       4.000000  "
      ]
     },
     "execution_count": 23,
     "metadata": {},
     "output_type": "execute_result"
    }
   ],
   "source": [
    "data.describe()"
   ]
  },
  {
   "cell_type": "markdown",
   "metadata": {},
   "source": [
    "Important observations:\n",
    "- For AveragePosition, the 75th percentile is 1.0, and actually 95% of the data have value 1.0 (see next cell)\n",
    "- The maximum value of CPC is 632 while the 50th percentile is 9.12 and the standard deviation is 24.74. Applying logarithm of base 2 will help normalize this feature.\n",
    "- The maximum value of Clicks is four orders of magnitude higher than its 50th percentile, meanwhile its mean is 381 but its standard deviation is 2248. A stronger transformation is needed. We will use logarithm with base 10.\n",
    "- We can also observe a similar situation with Impressions and Cost, so we will also use logarithm with base 10."
   ]
  },
  {
   "cell_type": "code",
   "execution_count": 24,
   "metadata": {},
   "outputs": [
    {
     "data": {
      "text/plain": [
       "1.0    0.953743\n",
       "1.1    0.015763\n",
       "1.2    0.005485\n",
       "1.3    0.003108\n",
       "1.5    0.001969\n",
       "Name: AveragePosition, dtype: float64"
      ]
     },
     "execution_count": 24,
     "metadata": {},
     "output_type": "execute_result"
    }
   ],
   "source": [
    "data.AveragePosition.value_counts(normalize=True).head()"
   ]
  },
  {
   "cell_type": "code",
   "execution_count": 25,
   "metadata": {},
   "outputs": [],
   "source": [
    "data.CPC = np.log2(data.CPC.replace(0,0.0001))\n",
    "data.Clicks = np.log10(data.Clicks.replace(0,0.001))\n",
    "data.Impressions = np.log10(data.Impressions.replace(0,0.0001))\n",
    "data.Cost = np.log10(data.Cost.replace(0,0.001))"
   ]
  },
  {
   "cell_type": "markdown",
   "metadata": {},
   "source": [
    "We now plot histograms of the four transformed features. We can see that indeed we have succeeded in normalizing the values of the four numeric features"
   ]
  },
  {
   "cell_type": "code",
   "execution_count": 26,
   "metadata": {},
   "outputs": [
    {
     "data": {
      "text/plain": [
       "<matplotlib.axes._subplots.AxesSubplot at 0x7ff515920550>"
      ]
     },
     "execution_count": 26,
     "metadata": {},
     "output_type": "execute_result"
    },
    {
     "data": {
      "image/png": "[encoded data removed]",
      "text/plain": [
       "<Figure size 432x288 with 1 Axes>"
      ]
     },
     "metadata": {
      "needs_background": "light"
     },
     "output_type": "display_data"
    }
   ],
   "source": [
    "data.CPC.hist()"
   ]
  },
  {
   "cell_type": "code",
   "execution_count": 27,
   "metadata": {},
   "outputs": [
    {
     "data": {
      "text/plain": [
       "<matplotlib.axes._subplots.AxesSubplot at 0x7ff5157ee090>"
      ]
     },
     "execution_count": 27,
     "metadata": {},
     "output_type": "execute_result"
    },
    {
     "data": {
      "image/png": "[encoded data removed]",
      "text/plain": [
       "<Figure size 432x288 with 1 Axes>"
      ]
     },
     "metadata": {
      "needs_background": "light"
     },
     "output_type": "display_data"
    }
   ],
   "source": [
    "data.Clicks.hist()"
   ]
  },
  {
   "cell_type": "code",
   "execution_count": 28,
   "metadata": {},
   "outputs": [
    {
     "data": {
      "text/plain": [
       "<matplotlib.axes._subplots.AxesSubplot at 0x7ff514cf9d10>"
      ]
     },
     "execution_count": 28,
     "metadata": {},
     "output_type": "execute_result"
    },
    {
     "data": {
      "image/png": "[encoded data removed]",
      "text/plain": [
       "<Figure size 432x288 with 1 Axes>"
      ]
     },
     "metadata": {
      "needs_background": "light"
     },
     "output_type": "display_data"
    }
   ],
   "source": [
    "data.Impressions.hist()"
   ]
  },
  {
   "cell_type": "code",
   "execution_count": 29,
   "metadata": {},
   "outputs": [
    {
     "data": {
      "text/plain": [
       "<matplotlib.axes._subplots.AxesSubplot at 0x7ff514cbfdd0>"
      ]
     },
     "execution_count": 29,
     "metadata": {},
     "output_type": "execute_result"
    },
    {
     "data": {
      "image/png": "[encoded data removed]",
      "text/plain": [
       "<Figure size 432x288 with 1 Axes>"
      ]
     },
     "metadata": {
      "needs_background": "light"
     },
     "output_type": "display_data"
    }
   ],
   "source": [
    "data.Cost.hist()"
   ]
  },
  {
   "cell_type": "code",
   "execution_count": 30,
   "metadata": {},
   "outputs": [
    {
     "data": {
      "text/plain": [
       "<matplotlib.axes._subplots.AxesSubplot at 0x7ff514bf4950>"
      ]
     },
     "execution_count": 30,
     "metadata": {},
     "output_type": "execute_result"
    },
    {
     "data": {
      "image/png": "[encoded data removed]",
      "text/plain": [
       "<Figure size 432x288 with 1 Axes>"
      ]
     },
     "metadata": {
      "needs_background": "light"
     },
     "output_type": "display_data"
    }
   ],
   "source": [
    "data.CTR.hist()"
   ]
  },
  {
   "cell_type": "markdown",
   "metadata": {},
   "source": [
    "We apply a few more data transformations in preparation for machine learning tasks. First, the Market feature has to be converted into numerical. Also the keywords must be made into lowercase to improve results when applying NLP techniques."
   ]
  },
  {
   "cell_type": "code",
   "execution_count": 31,
   "metadata": {},
   "outputs": [],
   "source": [
    "data['Keyword'] = data.Keyword.apply(lambda x: x.lower())\n",
    "data['Market'] = data.Market.map({'US-Market':1, 'UK-Market':0})"
   ]
  },
  {
   "cell_type": "code",
   "execution_count": 32,
   "metadata": {},
   "outputs": [
    {
     "data": {
      "text/html": [
       "<div>\n",
       "<style scoped>\n",
       "    .dataframe tbody tr th:only-of-type {\n",
       "        vertical-align: middle;\n",
       "    }\n",
       "\n",
       "    .dataframe tbody tr th {\n",
       "        vertical-align: top;\n",
       "    }\n",
       "\n",
       "    .dataframe thead th {\n",
       "        text-align: right;\n",
       "    }\n",
       "</style>\n",
       "<table border=\"1\" class=\"dataframe\">\n",
       "  <thead>\n",
       "    <tr style=\"text-align: right;\">\n",
       "      <th></th>\n",
       "      <th>Date</th>\n",
       "      <th>Market</th>\n",
       "      <th>Keyword</th>\n",
       "      <th>CPC</th>\n",
       "      <th>Clicks</th>\n",
       "      <th>CTR</th>\n",
       "      <th>Impressions</th>\n",
       "      <th>Cost</th>\n",
       "      <th>AveragePosition</th>\n",
       "      <th>Year</th>\n",
       "      <th>Month</th>\n",
       "      <th>Season</th>\n",
       "    </tr>\n",
       "  </thead>\n",
       "  <tbody>\n",
       "    <tr>\n",
       "      <td>1</td>\n",
       "      <td>20120524</td>\n",
       "      <td>1</td>\n",
       "      <td>agile management software</td>\n",
       "      <td>0.263034</td>\n",
       "      <td>1.326745</td>\n",
       "      <td>8.2</td>\n",
       "      <td>2.414973</td>\n",
       "      <td>1.405688</td>\n",
       "      <td>1.0</td>\n",
       "      <td>2012</td>\n",
       "      <td>5</td>\n",
       "      <td>1</td>\n",
       "    </tr>\n",
       "    <tr>\n",
       "      <td>9</td>\n",
       "      <td>20120524</td>\n",
       "      <td>1</td>\n",
       "      <td>android app developers</td>\n",
       "      <td>-0.599462</td>\n",
       "      <td>1.367542</td>\n",
       "      <td>8.6</td>\n",
       "      <td>2.431364</td>\n",
       "      <td>1.184975</td>\n",
       "      <td>1.0</td>\n",
       "      <td>2012</td>\n",
       "      <td>5</td>\n",
       "      <td>1</td>\n",
       "    </tr>\n",
       "    <tr>\n",
       "      <td>13</td>\n",
       "      <td>20120524</td>\n",
       "      <td>1</td>\n",
       "      <td>android application developer</td>\n",
       "      <td>0.028569</td>\n",
       "      <td>1.671358</td>\n",
       "      <td>8.6</td>\n",
       "      <td>2.737193</td>\n",
       "      <td>1.679155</td>\n",
       "      <td>1.0</td>\n",
       "      <td>2012</td>\n",
       "      <td>5</td>\n",
       "      <td>1</td>\n",
       "    </tr>\n",
       "    <tr>\n",
       "      <td>14</td>\n",
       "      <td>20120524</td>\n",
       "      <td>1</td>\n",
       "      <td>android app developer</td>\n",
       "      <td>0.378512</td>\n",
       "      <td>2.168674</td>\n",
       "      <td>6.0</td>\n",
       "      <td>3.392521</td>\n",
       "      <td>2.283279</td>\n",
       "      <td>1.0</td>\n",
       "      <td>2012</td>\n",
       "      <td>5</td>\n",
       "      <td>1</td>\n",
       "    </tr>\n",
       "    <tr>\n",
       "      <td>17</td>\n",
       "      <td>20120524</td>\n",
       "      <td>1</td>\n",
       "      <td>mobile applications developers</td>\n",
       "      <td>-0.810966</td>\n",
       "      <td>1.336260</td>\n",
       "      <td>8.3</td>\n",
       "      <td>2.414973</td>\n",
       "      <td>1.090258</td>\n",
       "      <td>1.0</td>\n",
       "      <td>2012</td>\n",
       "      <td>5</td>\n",
       "      <td>1</td>\n",
       "    </tr>\n",
       "  </tbody>\n",
       "</table>\n",
       "</div>"
      ],
      "text/plain": [
       "        Date  Market                         Keyword       CPC    Clicks  CTR  \\\n",
       "1   20120524       1       agile management software  0.263034  1.326745  8.2   \n",
       "9   20120524       1          android app developers -0.599462  1.367542  8.6   \n",
       "13  20120524       1   android application developer  0.028569  1.671358  8.6   \n",
       "14  20120524       1           android app developer  0.378512  2.168674  6.0   \n",
       "17  20120524       1  mobile applications developers -0.810966  1.336260  8.3   \n",
       "\n",
       "    Impressions      Cost  AveragePosition  Year  Month  Season  \n",
       "1      2.414973  1.405688              1.0  2012      5       1  \n",
       "9      2.431364  1.184975              1.0  2012      5       1  \n",
       "13     2.737193  1.679155              1.0  2012      5       1  \n",
       "14     3.392521  2.283279              1.0  2012      5       1  \n",
       "17     2.414973  1.090258              1.0  2012      5       1  "
      ]
     },
     "execution_count": 32,
     "metadata": {},
     "output_type": "execute_result"
    }
   ],
   "source": [
    "data.head()"
   ]
  },
  {
   "cell_type": "markdown",
   "metadata": {},
   "source": [
    "We save the cleaned dataset to a csv file."
   ]
  },
  {
   "cell_type": "code",
   "execution_count": 34,
   "metadata": {},
   "outputs": [],
   "source": [
    "data.to_csv('cleaned_data.csv', index_label=False)"
   ]
  },
  {
   "cell_type": "markdown",
   "metadata": {},
   "source": [
    "We must take note of all the data transformations we applied. Here is a table summary:\n",
    "\n",
    "| feature name        |    original format/type        |  transformation applied           |\n",
    "|:--------------------|:--------------------------|:----------------------------------|\n",
    "| Date                |    int: YYYYMMDD          |  3 new int features: Year, Month, Season  |\n",
    "| Market              | str: 'US-Market' or 'UK-Market' |   int: 1 or 0 (respectively)  |\n",
    "| Keyword             |    str                     |      take lowercase              |\n",
    "| CPC                 |   float                   |      apply np.log2                |\n",
    "| Clicks              |   float                   |      apply np.log10               |\n",
    "| CTR                 |   float (0 to 100)        |      (none)                       |\n",
    "| Impressions         |   float                   |      apply np.log10               |\n",
    "| Cost                |   float                   |      apply np.log10               |\n",
    "| AveragePosition     |   float  (0 to 12)        |      (none)                       |\n",
    "\n",
    "Also note that we discarded rows with null values, and also rows with zeroes for CPC, CTR, Clicks, Impressions, Cost and AP all simultaneously.\n",
    "\n",
    "All of these data cleaning and transformation actions are replicated in `prepare_data.py`"
   ]
  }
 ],
 "metadata": {
  "kernelspec": {
   "display_name": "Python 3",
   "language": "python",
   "name": "python3"
  },
  "language_info": {
   "codemirror_mode": {
    "name": "ipython",
    "version": 3
   },
   "file_extension": ".py",
   "mimetype": "text/x-python",
   "name": "python",
   "nbconvert_exporter": "python",
   "pygments_lexer": "ipython3",
   "version": "3.7.4"
  }
 },
 "nbformat": 4,
 "nbformat_minor": 2
}
